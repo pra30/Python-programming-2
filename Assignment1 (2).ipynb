{
  "nbformat": 4,
  "nbformat_minor": 0,
  "metadata": {
    "colab": {
      "provenance": [],
      "collapsed_sections": []
    },
    "kernelspec": {
      "name": "python3",
      "display_name": "Python 3"
    },
    "language_info": {
      "name": "python"
    }
  },
  "cells": [
    {
      "cell_type": "markdown",
      "source": [
        "#                        **PRACTICAL NO :  1**\n",
        "# NAME : PRATIK PANDURANG KADAM                                    \n",
        "# DIV : A\n",
        "# ROLL NO : 33                                                  \n",
        "# BATCH : A2\n"
      ],
      "metadata": {
        "id": "vPRj_GOil0t1"
      }
    },
    {
      "cell_type": "markdown",
      "source": [
        "Section A: Fundamentals of Python"
      ],
      "metadata": {
        "id": "9Kgld1cdcHch"
      }
    },
    {
      "cell_type": "code",
      "execution_count": null,
      "metadata": {
        "colab": {
          "base_uri": "https://localhost:8080/"
        },
        "id": "Sx2nLMdrcD17",
        "outputId": "88e584eb-8ce9-441a-89da-78a12646f99c"
      },
      "outputs": [
        {
          "output_type": "stream",
          "name": "stdout",
          "text": [
            "Hello Python\n"
          ]
        }
      ],
      "source": [
        "# print “Hello Python”\n",
        "\n",
        "print(\"Hello Python\") "
      ]
    },
    {
      "cell_type": "code",
      "source": [
        "# arithmetical operations addition and division\n",
        "\n",
        "a = int(input(\"Enter no1 \"))\n",
        "b = int(input(\"Enter no2 \"))\n",
        "add = a + b\n",
        "div = a/b\n",
        "print(\"Addition\",add)\n",
        "print(\"Division\",div)"
      ],
      "metadata": {
        "colab": {
          "base_uri": "https://localhost:8080/"
        },
        "id": "_yHBGzyAcSXW",
        "outputId": "bd8f9a6e-fa1a-4ee1-ee39-96ba78117823"
      },
      "execution_count": null,
      "outputs": [
        {
          "output_type": "stream",
          "name": "stdout",
          "text": [
            "Enter no1 20\n",
            "Enter no2 58\n",
            "Addition 78\n",
            "Division 0.3448275862068966\n"
          ]
        }
      ]
    },
    {
      "cell_type": "code",
      "source": [
        "# find the area of a triangle\n",
        "\n",
        "a = float(input(\"Enter value of base in cm \"))\n",
        "b = float(input(\"Enter value of height in cm \"))\n",
        "area = 0.5*a*b\n",
        "print(\"area is\",area)\n"
      ],
      "metadata": {
        "colab": {
          "base_uri": "https://localhost:8080/"
        },
        "id": "9uAcsSQVd91T",
        "outputId": "75cff1dd-07c3-4ab2-c084-dd34755dfa18"
      },
      "execution_count": null,
      "outputs": [
        {
          "output_type": "stream",
          "name": "stdout",
          "text": [
            "Enter value of base in cm 12\n",
            "Enter value of height in cm 6\n",
            "area is 36.0\n"
          ]
        }
      ]
    },
    {
      "cell_type": "code",
      "source": [
        "# Swap Variables\n",
        "\n",
        "a = 76\n",
        "b = 80\n",
        "\n",
        "a, b = b, a\n",
        "\n",
        "print(\"Value of a = \", a)\n",
        "print(\"Value of b = \", b)"
      ],
      "metadata": {
        "colab": {
          "base_uri": "https://localhost:8080/"
        },
        "id": "qvhL3KyG-1i8",
        "outputId": "8330dc92-6b82-4b8d-c735-3e7fd2b559d7"
      },
      "execution_count": null,
      "outputs": [
        {
          "output_type": "stream",
          "name": "stdout",
          "text": [
            "Value of a =  80\n",
            "Value of b =  76\n"
          ]
        }
      ]
    },
    {
      "cell_type": "code",
      "source": [
        "# generate a random number\n",
        "\n",
        "import random\n",
        "a = random.random()\n",
        "print(a)\n"
      ],
      "metadata": {
        "colab": {
          "base_uri": "https://localhost:8080/"
        },
        "id": "tLMp7CvoAbgO",
        "outputId": "86b3f84e-9e0a-4f13-d631-27c99428059f"
      },
      "execution_count": null,
      "outputs": [
        {
          "output_type": "stream",
          "name": "stdout",
          "text": [
            "0.735255715340267\n"
          ]
        }
      ]
    },
    {
      "cell_type": "markdown",
      "source": [
        "Section B:"
      ],
      "metadata": {
        "id": "pt5pjKvXBgD-"
      }
    },
    {
      "cell_type": "code",
      "source": [
        "# convert kilometers to miles\n",
        "\n",
        "km = float(input(\"Enter value in kilometers: \"))\n",
        "miles = km * 0.621371\n",
        "print(km,\"kilometers is equal to\",miles,\"miles\")"
      ],
      "metadata": {
        "colab": {
          "base_uri": "https://localhost:8080/"
        },
        "id": "f5n22K9ZBo-4",
        "outputId": "062c9775-239c-4756-b283-fc9cd15b5820"
      },
      "execution_count": null,
      "outputs": [
        {
          "output_type": "stream",
          "name": "stdout",
          "text": [
            "Enter value in kilometers: 450\n",
            "450.0 kilometers is equal to 279.61695000000003 miles\n"
          ]
        }
      ]
    },
    {
      "cell_type": "code",
      "source": [
        "# convert Celsius to Fahrenheit\n",
        "\n",
        "cels = float(input(\"Enter value in celsius: \"))\n",
        "farehit = (cels * 1.8) + 32\n",
        "print(cels,\"degree celsius is equal to\",farehit,\"degree fahrenheit\")"
      ],
      "metadata": {
        "colab": {
          "base_uri": "https://localhost:8080/"
        },
        "id": "C7fPNan2B52F",
        "outputId": "3e4928f7-8616-4f1f-b563-98b6484382cf"
      },
      "execution_count": null,
      "outputs": [
        {
          "output_type": "stream",
          "name": "stdout",
          "text": [
            "Enter value in celsius: 40\n",
            "40.0 degree celsius is equal to 104.0 degree fahrenheit\n"
          ]
        }
      ]
    },
    {
      "cell_type": "code",
      "source": [
        "# Display Calendar\n",
        "\n",
        "import calendar\n",
        "yy = 2030\n",
        "print(calendar.calendar(yy))"
      ],
      "metadata": {
        "colab": {
          "base_uri": "https://localhost:8080/"
        },
        "id": "l3rq2QzsCHfb",
        "outputId": "6a5cda29-6cfc-4108-ca91-c3c0ccd58e3b"
      },
      "execution_count": null,
      "outputs": [
        {
          "output_type": "stream",
          "name": "stdout",
          "text": [
            "                                  2030\n",
            "\n",
            "      January                   February                   March\n",
            "Mo Tu We Th Fr Sa Su      Mo Tu We Th Fr Sa Su      Mo Tu We Th Fr Sa Su\n",
            "    1  2  3  4  5  6                   1  2  3                   1  2  3\n",
            " 7  8  9 10 11 12 13       4  5  6  7  8  9 10       4  5  6  7  8  9 10\n",
            "14 15 16 17 18 19 20      11 12 13 14 15 16 17      11 12 13 14 15 16 17\n",
            "21 22 23 24 25 26 27      18 19 20 21 22 23 24      18 19 20 21 22 23 24\n",
            "28 29 30 31               25 26 27 28               25 26 27 28 29 30 31\n",
            "\n",
            "       April                      May                       June\n",
            "Mo Tu We Th Fr Sa Su      Mo Tu We Th Fr Sa Su      Mo Tu We Th Fr Sa Su\n",
            " 1  2  3  4  5  6  7             1  2  3  4  5                      1  2\n",
            " 8  9 10 11 12 13 14       6  7  8  9 10 11 12       3  4  5  6  7  8  9\n",
            "15 16 17 18 19 20 21      13 14 15 16 17 18 19      10 11 12 13 14 15 16\n",
            "22 23 24 25 26 27 28      20 21 22 23 24 25 26      17 18 19 20 21 22 23\n",
            "29 30                     27 28 29 30 31            24 25 26 27 28 29 30\n",
            "\n",
            "        July                     August                  September\n",
            "Mo Tu We Th Fr Sa Su      Mo Tu We Th Fr Sa Su      Mo Tu We Th Fr Sa Su\n",
            " 1  2  3  4  5  6  7                1  2  3  4                         1\n",
            " 8  9 10 11 12 13 14       5  6  7  8  9 10 11       2  3  4  5  6  7  8\n",
            "15 16 17 18 19 20 21      12 13 14 15 16 17 18       9 10 11 12 13 14 15\n",
            "22 23 24 25 26 27 28      19 20 21 22 23 24 25      16 17 18 19 20 21 22\n",
            "29 30 31                  26 27 28 29 30 31         23 24 25 26 27 28 29\n",
            "                                                    30\n",
            "\n",
            "      October                   November                  December\n",
            "Mo Tu We Th Fr Sa Su      Mo Tu We Th Fr Sa Su      Mo Tu We Th Fr Sa Su\n",
            "    1  2  3  4  5  6                   1  2  3                         1\n",
            " 7  8  9 10 11 12 13       4  5  6  7  8  9 10       2  3  4  5  6  7  8\n",
            "14 15 16 17 18 19 20      11 12 13 14 15 16 17       9 10 11 12 13 14 15\n",
            "21 22 23 24 25 26 27      18 19 20 21 22 23 24      16 17 18 19 20 21 22\n",
            "28 29 30 31               25 26 27 28 29 30         23 24 25 26 27 28 29\n",
            "                                                    30 31\n",
            "\n"
          ]
        }
      ]
    },
    {
      "cell_type": "code",
      "source": [
        "# solve quadratic equation\n",
        "\n",
        "import cmath\n",
        "a = int(input(\"Enter value of a \"))\n",
        "b = int(input(\"Enter value of b \"))\n",
        "c = int(input(\"Enter value of c \"))\n",
        "\n",
        "d = (b**2) - (4*a*c)\n",
        "\n",
        "sol1 = (-b-cmath.sqrt(d))/(2*a)\n",
        "sol2 = (-b+cmath.sqrt(d))/(2*a)\n",
        "print('The solution are {0} and {1}'.format(sol1,sol2))"
      ],
      "metadata": {
        "colab": {
          "base_uri": "https://localhost:8080/"
        },
        "id": "qmPI1hRVChWk",
        "outputId": "d960a306-c144-4246-d637-357103350942"
      },
      "execution_count": null,
      "outputs": [
        {
          "output_type": "stream",
          "name": "stdout",
          "text": [
            "Enter value of a 4\n",
            "Enter value of b 6\n",
            "Enter value of c 2\n",
            "The solution are (-1+0j) and (-0.5+0j)\n"
          ]
        }
      ]
    },
    {
      "cell_type": "code",
      "source": [
        "# Swap variables without temp\n",
        "\n",
        "x = 76\n",
        "y = 34\n",
        "\n",
        "x = x ^ y\n",
        "y = x ^ y\n",
        "x = x ^ y\n",
        "\n",
        "print(\"Value of x= \",x)\n",
        "print(\"Value of y= \",y)"
      ],
      "metadata": {
        "colab": {
          "base_uri": "https://localhost:8080/"
        },
        "id": "tgWZumBYC_Uk",
        "outputId": "d0529d13-63a3-4e82-dcf1-374984743967"
      },
      "execution_count": null,
      "outputs": [
        {
          "output_type": "stream",
          "name": "stdout",
          "text": [
            "Value of x=  34\n",
            "Value of y=  76\n"
          ]
        }
      ]
    },
    {
      "cell_type": "markdown",
      "source": [
        "Section C:"
      ],
      "metadata": {
        "id": "UEKdEN7EDfKr"
      }
    },
    {
      "cell_type": "code",
      "source": [
        "# Check if a Number is Positive, Negative or Zero\n",
        "\n",
        "num = int(input(\"Enter number \"))\n",
        "if num > 0:\n",
        "  print(\"Your number is positive\")\n",
        "elif num == 0:\n",
        "  print(\"Your number is zero\")\n",
        "else:\n",
        "  print(\"Your number is negative\")"
      ],
      "metadata": {
        "colab": {
          "base_uri": "https://localhost:8080/"
        },
        "id": "atRMwg8mDm_l",
        "outputId": "736a0ddb-42ad-4799-e1db-9e3fac0695e1"
      },
      "execution_count": null,
      "outputs": [
        {
          "output_type": "stream",
          "name": "stdout",
          "text": [
            "Enter number 71\n",
            "Your number is positive\n"
          ]
        }
      ]
    },
    {
      "cell_type": "code",
      "source": [
        "# Check if a Number is Odd or Even\n",
        "\n",
        "num = int(input(\"Enter number \"))\n",
        "if num % 2 ==0:\n",
        "  print(\"Your number is even\")\n",
        "else:\n",
        "  print(\"Your number is odd\")\n",
        "\n"
      ],
      "metadata": {
        "colab": {
          "base_uri": "https://localhost:8080/"
        },
        "id": "ZjNmWL6OFbdJ",
        "outputId": "ed0098af-01e1-4c7e-cbe4-392e0e643140"
      },
      "execution_count": null,
      "outputs": [
        {
          "output_type": "stream",
          "name": "stdout",
          "text": [
            "Enter number 460\n",
            "Your number is even\n"
          ]
        }
      ]
    },
    {
      "cell_type": "code",
      "source": [
        "# Check Leap Year\n",
        "\n",
        "def CheckYear(year):\n",
        "    import calendar\n",
        "    return(calendar.isleap(year))\n",
        "\n",
        "year = int(input(\"Enter value of year \"))\n",
        "if (CheckYear(year)):\n",
        "    print(\"Leap Year\")\n",
        "else:\n",
        "    print(\"Not a Leap Year\")"
      ],
      "metadata": {
        "colab": {
          "base_uri": "https://localhost:8080/"
        },
        "id": "sT3DlpdrGNUh",
        "outputId": "3e3473f4-6f7b-4d6b-ba35-5865a99eced4"
      },
      "execution_count": null,
      "outputs": [
        {
          "output_type": "stream",
          "name": "stdout",
          "text": [
            "Enter value of year 2024\n",
            "Leap Year\n"
          ]
        }
      ]
    },
    {
      "cell_type": "code",
      "source": [
        "# Check Prime Number\n",
        "\n",
        "num = int(input(\"Enter number \"))\n",
        "\n",
        "if num > 1:\n",
        "    for i in range(2, int(num/2)+1):\n",
        "        if (num % i) == 0:\n",
        "            print(num, \"is not a prime number\")\n",
        "            break\n",
        "    else:\n",
        "            print(num, \"is a prime number\")\n",
        "else:\n",
        "    print(num, \"is not a prime number\")"
      ],
      "metadata": {
        "colab": {
          "base_uri": "https://localhost:8080/"
        },
        "id": "jVBEID61Ga-K",
        "outputId": "8a0eb984-1e43-4e1e-f3cd-48140ee0b8d2"
      },
      "execution_count": null,
      "outputs": [
        {
          "output_type": "stream",
          "name": "stdout",
          "text": [
            "Enter number 11\n",
            "11 is a prime number\n"
          ]
        }
      ]
    },
    {
      "cell_type": "code",
      "source": [
        "# Prime Numbers in an Interval of 1-10000\n",
        "\n",
        "lower = 1\n",
        "upper = 1000\n",
        "\n",
        "print(\"Prime numbers between\",lower,\"and\",upper)\n",
        "for num in range(lower, upper +1):\n",
        "    if num > 1:\n",
        "        for i in range(2, num):\n",
        "            if (num % i) == 0:\n",
        "                break\n",
        "        else:\n",
        "            print(num,end = \" \")"
      ],
      "metadata": {
        "colab": {
          "base_uri": "https://localhost:8080/"
        },
        "id": "jPGYiWY2Gsm2",
        "outputId": "9c787478-17c1-4d53-80ae-3447689ebe07"
      },
      "execution_count": 1,
      "outputs": [
        {
          "output_type": "stream",
          "name": "stdout",
          "text": [
            "Prime numbers between 1 and 1000\n",
            "2 3 5 7 11 13 17 19 23 29 31 37 41 43 47 53 59 61 67 71 73 79 83 89 97 101 103 107 109 113 127 131 137 139 149 151 157 163 167 173 179 181 191 193 197 199 211 223 227 229 233 239 241 251 257 263 269 271 277 281 283 293 307 311 313 317 331 337 347 349 353 359 367 373 379 383 389 397 401 409 419 421 431 433 439 443 449 457 461 463 467 479 487 491 499 503 509 521 523 541 547 557 563 569 571 577 587 593 599 601 607 613 617 619 631 641 643 647 653 659 661 673 677 683 691 701 709 719 727 733 739 743 751 757 761 769 773 787 797 809 811 821 823 827 829 839 853 857 859 863 877 881 883 887 907 911 919 929 937 941 947 953 967 971 977 983 991 997 "
          ]
        }
      ]
    },
    {
      "cell_type": "markdown",
      "source": [
        "Section D:"
      ],
      "metadata": {
        "id": "8l58u_VnHA74"
      }
    },
    {
      "cell_type": "code",
      "source": [
        "# Find the Factorial of a Number\n",
        "\n",
        "num = int(input(\"Enter no \"))\n",
        "fact = 1\n",
        "for i in range(1,num+1):\n",
        "  fact = fact * i\n",
        "print(\"Factorial of\",num,\"is\",fact)"
      ],
      "metadata": {
        "colab": {
          "base_uri": "https://localhost:8080/"
        },
        "id": "iK6wn42mHDkT",
        "outputId": "56cfca11-9c3c-45ac-db42-e167e19f7ea9"
      },
      "execution_count": null,
      "outputs": [
        {
          "output_type": "stream",
          "name": "stdout",
          "text": [
            "Enter no 7\n",
            "Factorial of 7 is 5040\n"
          ]
        }
      ]
    },
    {
      "cell_type": "code",
      "source": [
        "# Display the multiplication Table\n",
        "\n",
        "num = int(input(\"Enter the number which wants to print multiplication table \"))\n",
        "print(\"The multiplication table of:\",num)\n",
        "for i in range(1,11):\n",
        "    print(num,\"X\",i,\"=\",num*i)"
      ],
      "metadata": {
        "colab": {
          "base_uri": "https://localhost:8080/"
        },
        "id": "RhbiB7IcIX3e",
        "outputId": "4e4227aa-88dd-4b45-bef3-a3c427d1c872"
      },
      "execution_count": null,
      "outputs": [
        {
          "output_type": "stream",
          "name": "stdout",
          "text": [
            "Enter the number which wants to print multiplication table 9\n",
            "The multiplication table of: 9\n",
            "9 X 1 = 9\n",
            "9 X 2 = 18\n",
            "9 X 3 = 27\n",
            "9 X 4 = 36\n",
            "9 X 5 = 45\n",
            "9 X 6 = 54\n",
            "9 X 7 = 63\n",
            "9 X 8 = 72\n",
            "9 X 9 = 81\n",
            "9 X 10 = 90\n"
          ]
        }
      ]
    },
    {
      "cell_type": "code",
      "source": [
        "# Print the Fibonacci sequence\n",
        "\n",
        "n_terms = int(input(\"How many terms the user wants to print?\"))\n",
        "\n",
        "# First two terms\n",
        "n_1 = 0\n",
        "n_2 = 1\n",
        "count = 0\n",
        "\n",
        "if n_terms <= 0:\n",
        "    print(\"Please enter a positive integer, the given number is not valid\")\n",
        "\n",
        "elif n_terms == 1:\n",
        "    print(\"The Fibonacci sequence of the numbers up to\",n_terms,\": \")\n",
        "    print(n_1)\n",
        "\n",
        "else:\n",
        "    print(\"THe fibonacci sequence of the numbers is:\")\n",
        "    while count < n_terms:\n",
        "        print(n_1)\n",
        "        nth = n_1 + n_2\n",
        "\n",
        "        n_1 = n_2\n",
        "        n_2 = nth\n",
        "        count += 1\n"
      ],
      "metadata": {
        "colab": {
          "base_uri": "https://localhost:8080/"
        },
        "id": "mpK0bMgRIqp3",
        "outputId": "2c83044c-d009-49c6-fc83-790d018e9742"
      },
      "execution_count": null,
      "outputs": [
        {
          "output_type": "stream",
          "name": "stdout",
          "text": [
            "How many terms the user wants to print?6\n",
            "THe fibonacci sequence of the numbers is:\n",
            "0\n",
            "1\n",
            "1\n",
            "2\n",
            "3\n",
            "5\n"
          ]
        }
      ]
    },
    {
      "cell_type": "code",
      "source": [
        "# Check Armstrong Number\n",
        "\n",
        "n = int(input(\"Enter number \"))\n",
        "s = n\n",
        "b = len(str(n))\n",
        "sum1 = 0\n",
        "while n != 0:\n",
        "    r = n % 10\n",
        "    sum1 = sum1+(r**b)\n",
        "    n = n//10\n",
        "if s == sum1:\n",
        "    print(\"The given number is Armstrong number\")\n",
        "else:\n",
        "    print(\"The given number is not an Armstrong number\")"
      ],
      "metadata": {
        "colab": {
          "base_uri": "https://localhost:8080/"
        },
        "id": "6VikRfcSJrhT",
        "outputId": "edf70400-254f-4346-8faa-63a517580615"
      },
      "execution_count": null,
      "outputs": [
        {
          "output_type": "stream",
          "name": "stdout",
          "text": [
            "Enter number 923\n",
            "The given number is not an Armstrong number\n"
          ]
        }
      ]
    },
    {
      "cell_type": "code",
      "source": [
        "# Armstrong Number in an Interval\n",
        "\n",
        "lower = int(input(\"Enter lower range \"))\n",
        "upper = int(input(\"Enter upper range \"))\n",
        "\n",
        "for num in range(lower, upper + 1):\n",
        "    \n",
        "    sum = 0\n",
        "    temp = num\n",
        "    while temp > 0:\n",
        "        digit = temp % 10\n",
        "        sum += digit ** 3\n",
        "        temp //= 10\n",
        "    if num == sum:\n",
        "        print(num)"
      ],
      "metadata": {
        "colab": {
          "base_uri": "https://localhost:8080/"
        },
        "id": "xZabRBMoKKoj",
        "outputId": "6db7f4a5-d523-456b-8609-51eacf75349d"
      },
      "execution_count": null,
      "outputs": [
        {
          "output_type": "stream",
          "name": "stdout",
          "text": [
            "Enter lower range 1\n",
            "Enter upper range 900\n",
            "1\n",
            "153\n",
            "370\n",
            "371\n",
            "407\n"
          ]
        }
      ]
    },
    {
      "cell_type": "code",
      "source": [
        "# The Sum of Natural Numbers\n",
        "\n",
        "num = int(input(\"Enter a number \"))\n",
        "b = num\n",
        "\n",
        "if num < 0:\n",
        "    print(\"Enter a positive number\")\n",
        "else:\n",
        "    sum = 0\n",
        "    while(num >0):\n",
        "        sum += num\n",
        "        num -= 1\n",
        "    print(\"The sum of first\",b,\"natural numbers is\",sum)"
      ],
      "metadata": {
        "colab": {
          "base_uri": "https://localhost:8080/"
        },
        "id": "1klPCb4OK1cC",
        "outputId": "394ef571-45b4-48bb-977f-7289beeda3c5"
      },
      "execution_count": null,
      "outputs": [
        {
          "output_type": "stream",
          "name": "stdout",
          "text": [
            "Enter a number 20\n",
            "The sum of first 20 natural numbers is 210\n"
          ]
        }
      ]
    },
    {
      "cell_type": "markdown",
      "source": [
        "Section E:"
      ],
      "metadata": {
        "id": "tLVfIZZeLNg_"
      }
    },
    {
      "cell_type": "code",
      "source": [
        "# find sum of array\n",
        "\n",
        "def _sum(arr):\n",
        "  sum = 0\n",
        "  for i in arr:\n",
        "      sum = sum + i\n",
        "\n",
        "  return(sum)\n",
        "arr = [34, 23, 4, 21,2]\n",
        "\n",
        "n = len(arr)\n",
        " \n",
        "ans = _sum(arr)\n",
        "print('Sum of the array is ', ans)"
      ],
      "metadata": {
        "colab": {
          "base_uri": "https://localhost:8080/"
        },
        "id": "XkKM2T5jQuc6",
        "outputId": "bcfd726b-f325-48fe-c21b-7b52610d3704"
      },
      "execution_count": null,
      "outputs": [
        {
          "output_type": "stream",
          "name": "stdout",
          "text": [
            "Sum of the array is  84\n"
          ]
        }
      ]
    },
    {
      "cell_type": "code",
      "source": [
        "# find largest element in an array\n",
        "\n",
        "def largest(arr, n):\n",
        "    arr.sort()\n",
        "    return arr[n-1]\n",
        "arr = [324, 888, 32, 45]\n",
        "n = len(arr)\n",
        "a = largest(arr, n)\n",
        "print(\"Largest element in given array\", a)"
      ],
      "metadata": {
        "colab": {
          "base_uri": "https://localhost:8080/"
        },
        "id": "ny3oiLzLR1E_",
        "outputId": "3a15f484-2917-4b5e-a1e4-7c9a066f05aa"
      },
      "execution_count": null,
      "outputs": [
        {
          "output_type": "stream",
          "name": "stdout",
          "text": [
            "Largest element in given array 888\n"
          ]
        }
      ]
    },
    {
      "cell_type": "code",
      "source": [
        "# array rotation\n",
        "\n",
        "arr = [1,2,3,4,5]\n",
        "n = 3\n",
        "\n",
        "print(\"Original array= \")\n",
        "for i in range(0,len(arr)):\n",
        "    print(arr[i])\n",
        "\n",
        "for i in range(0,n):\n",
        "    first = arr[0]\n",
        "    for j in range(0,len(arr)-1):\n",
        "        arr[j] = arr[j+1]\n",
        "    arr[len(arr)-1] = first\n",
        "\n",
        "print(\"Array after left rotation= \")\n",
        "for i in range(0,len(arr)):\n",
        "    print(arr[i])"
      ],
      "metadata": {
        "id": "eTCKU57sTaa1",
        "colab": {
          "base_uri": "https://localhost:8080/"
        },
        "outputId": "d44b37f2-98b7-4ebd-d922-cad07b1d4f86"
      },
      "execution_count": null,
      "outputs": [
        {
          "output_type": "stream",
          "name": "stdout",
          "text": [
            "Original array= \n",
            "1\n",
            "2\n",
            "3\n",
            "4\n",
            "5\n",
            "Array after left rotation= \n",
            "4\n",
            "5\n",
            "1\n",
            "2\n",
            "3\n"
          ]
        }
      ]
    },
    {
      "cell_type": "code",
      "source": [
        "# Split the array and add the first part to the end\n",
        "\n",
        "def splitArr(a, n, k):\n",
        "    b = a[ :k]\n",
        "    return (a[k::]+b[::])\n",
        "\n",
        "arr = [12, 10, 5, 6, 52, 36]\n",
        "n = len(arr)\n",
        "position = 2\n",
        "arr = splitArr(arr, n, position)\n",
        "for i in range(0, n):\n",
        "    print(arr[i], end = ' ')"
      ],
      "metadata": {
        "colab": {
          "base_uri": "https://localhost:8080/"
        },
        "id": "ScX0Be_ecBcV",
        "outputId": "95f0553b-23a8-4a64-b2e9-73bc78659b3a"
      },
      "execution_count": null,
      "outputs": [
        {
          "output_type": "stream",
          "name": "stdout",
          "text": [
            "5 6 52 36 12 10 "
          ]
        }
      ]
    },
    {
      "cell_type": "code",
      "source": [
        "# check if given array is Monotonic\n",
        "\n",
        "def Monotonic(A):\n",
        "    return all(A[i] <= A[i + 1] for i in range(len(A)-1)) or all(A[i] >= A[i + 1] for i in range(len(A)-1))\n",
        "            \n",
        "A = [6, 5, 4, 4]\n",
        "print(Monotonic(A))"
      ],
      "metadata": {
        "colab": {
          "base_uri": "https://localhost:8080/"
        },
        "id": "F-5m4xFjcNqA",
        "outputId": "9709ffbc-f65c-4f07-c0e5-1552ef22e032"
      },
      "execution_count": null,
      "outputs": [
        {
          "output_type": "stream",
          "name": "stdout",
          "text": [
            "True\n"
          ]
        }
      ]
    },
    {
      "cell_type": "markdown",
      "source": [
        "Section F:"
      ],
      "metadata": {
        "id": "c7I-GnZ_cj3s"
      }
    },
    {
      "cell_type": "code",
      "source": [
        "def _sum(arr):\n",
        "  sum = 0\n",
        "  for i in arr:\n",
        "      sum = sum + i\n",
        "\n",
        "  return(sum)\n",
        "lst = [2, 6, 7, 13, 5]\n",
        "d = _sum(lst)\n",
        "print(d)\n",
        "\n"
      ],
      "metadata": {
        "colab": {
          "base_uri": "https://localhost:8080/"
        },
        "id": "Tq99Wpk1gXUe",
        "outputId": "404e0032-140b-48a7-e910-3ba74cad60c1"
      },
      "execution_count": null,
      "outputs": [
        {
          "output_type": "stream",
          "name": "stdout",
          "text": [
            "33\n"
          ]
        }
      ]
    },
    {
      "cell_type": "code",
      "source": [
        "# Multiply all numbers in the list\n",
        "\n",
        "lst1 = [2, 4, 5]\n",
        "lst2 = [3, 1, 6]\n",
        "from functools import reduce\n",
        "import operator\n",
        "\n",
        "print(reduce(operator.mul, lst1, 1))\n",
        "print(reduce(operator.mul, lst2, 1))"
      ],
      "metadata": {
        "colab": {
          "base_uri": "https://localhost:8080/"
        },
        "id": "IzGAc5UkhQGS",
        "outputId": "3f45c88d-cc47-4100-8109-2dca289c3948"
      },
      "execution_count": null,
      "outputs": [
        {
          "output_type": "stream",
          "name": "stdout",
          "text": [
            "40\n",
            "18\n"
          ]
        }
      ]
    },
    {
      "cell_type": "code",
      "source": [
        "# find smallest number in a list\n",
        "\n",
        "lst = [34, 9, 45, 2, 67]\n",
        "print(\"Smallest number in a list is:\",min(lst))"
      ],
      "metadata": {
        "colab": {
          "base_uri": "https://localhost:8080/"
        },
        "id": "NL22gSkjkNZC",
        "outputId": "5d638f23-4450-44e1-b335-ef6bc07a12e2"
      },
      "execution_count": null,
      "outputs": [
        {
          "output_type": "stream",
          "name": "stdout",
          "text": [
            "Smallest number in a list is: 2\n"
          ]
        }
      ]
    },
    {
      "cell_type": "code",
      "source": [
        "# find largest number in a list\n",
        "\n",
        "lst = [34, 9, 45, 2, 67]\n",
        "print(\"Largest number in a list is:\",max(lst))"
      ],
      "metadata": {
        "colab": {
          "base_uri": "https://localhost:8080/"
        },
        "id": "Ze0uwbbWkgsX",
        "outputId": "346a1708-3257-4149-b5d8-39bbcb53ef93"
      },
      "execution_count": null,
      "outputs": [
        {
          "output_type": "stream",
          "name": "stdout",
          "text": [
            "Largest number in a list is: 67\n"
          ]
        }
      ]
    },
    {
      "cell_type": "code",
      "source": [
        "# find second largest number in a list\n",
        "\n",
        "list1 = [34, 9, 45, 2, 67]\n",
        "new_list = set(list1)\n",
        "new_list.remove(max(new_list))\n",
        "print(max(new_list))"
      ],
      "metadata": {
        "colab": {
          "base_uri": "https://localhost:8080/"
        },
        "id": "u8yqBx7poAm1",
        "outputId": "6dc69ec0-dc66-446f-b270-89721c44cd44"
      },
      "execution_count": null,
      "outputs": [
        {
          "output_type": "stream",
          "name": "stdout",
          "text": [
            "45\n"
          ]
        }
      ]
    },
    {
      "cell_type": "code",
      "source": [
        "# find N largest elements from a list\n",
        "\n",
        "l = [1000,298,4325,200,-67,800,12]\n",
        "n = int(input(\"How many largest elements you want \"))\n",
        "l.sort()\n",
        "print(l[-n:])"
      ],
      "metadata": {
        "colab": {
          "base_uri": "https://localhost:8080/"
        },
        "id": "GT9dzPyOopdM",
        "outputId": "62d5f53d-101a-47c5-ed87-5bc6a6c97953"
      },
      "execution_count": null,
      "outputs": [
        {
          "output_type": "stream",
          "name": "stdout",
          "text": [
            "How many largest elements you want 4\n",
            "[298, 800, 1000, 4325]\n"
          ]
        }
      ]
    },
    {
      "cell_type": "code",
      "source": [
        "# even numbers in a list\n",
        "\n",
        "lst = [34, 9, 45, 2, 67, 99, 12]\n",
        "for i in lst:\n",
        "    if i % 2 ==0:\n",
        "        print(i, end=' ')"
      ],
      "metadata": {
        "colab": {
          "base_uri": "https://localhost:8080/"
        },
        "id": "uSYp9YZUoy8m",
        "outputId": "1458f157-40d1-4cef-8f7a-d30cdf2e93bc"
      },
      "execution_count": null,
      "outputs": [
        {
          "output_type": "stream",
          "name": "stdout",
          "text": [
            "34 2 12 "
          ]
        }
      ]
    },
    {
      "cell_type": "code",
      "source": [
        "# odd numbers in a List\n",
        "\n",
        "lst = [34, 9, 45, 2, 67, 99, 12]\n",
        "for i in lst:\n",
        "    if i % 2 != 0:\n",
        "        print(i, end=' ')\n"
      ],
      "metadata": {
        "colab": {
          "base_uri": "https://localhost:8080/"
        },
        "id": "Mrvwvv_fo9As",
        "outputId": "875090e9-2245-4005-91c3-444b83b5a8eb"
      },
      "execution_count": null,
      "outputs": [
        {
          "output_type": "stream",
          "name": "stdout",
          "text": [
            "9 45 67 99 "
          ]
        }
      ]
    },
    {
      "cell_type": "code",
      "source": [
        "# Remove empty List from List\n",
        "\n",
        "lst = [8, 5, [], 21, [], [], 24, 1]\n",
        "print(\"The original list is : \" + str(lst))\n",
        "while [] in lst:\n",
        "    lst.remove([])\n",
        "print(\"List after empty list removal : \" + str(lst))"
      ],
      "metadata": {
        "colab": {
          "base_uri": "https://localhost:8080/"
        },
        "id": "MlL2Nz7LpIkG",
        "outputId": "9a1b2250-9cbe-4479-c8a8-9e15de3f794f"
      },
      "execution_count": null,
      "outputs": [
        {
          "output_type": "stream",
          "name": "stdout",
          "text": [
            "The original list is : [8, 5, [], 21, [], [], 24, 1]\n",
            "List after empty list removal : [8, 5, 21, 24, 1]\n"
          ]
        }
      ]
    },
    {
      "cell_type": "code",
      "source": [
        "# Cloning or Copying a list\n",
        "\n",
        "def cloning(lst1):\n",
        "    lst_copy = lst1\n",
        "    return lst_copy\n",
        "\n",
        "lst1 = [34, 9, 45, 2, 67, 99, 12]\n",
        "lst2 = cloning(lst1)\n",
        "print(\"Original list:\", lst1)\n",
        "print(\"After cloning:\", lst2)"
      ],
      "metadata": {
        "colab": {
          "base_uri": "https://localhost:8080/"
        },
        "id": "CZcC6QtPqQJQ",
        "outputId": "4e66de2f-d507-4565-b94d-19842621274e"
      },
      "execution_count": null,
      "outputs": [
        {
          "output_type": "stream",
          "name": "stdout",
          "text": [
            "Original list: [34, 9, 45, 2, 67, 99, 12]\n",
            "After cloning: [34, 9, 45, 2, 67, 99, 12]\n"
          ]
        }
      ]
    },
    {
      "cell_type": "code",
      "source": [
        "# Count occurrences of an element in a list\n",
        "\n",
        "def count(lst, x):\n",
        "    return lst.count(x)\n",
        "\n",
        "lst = [6, 7, 52, 4, 8, 4, 6, 4]\n",
        "x = 4\n",
        "print(\"{} has occurred {} times\".format(x, count(lst, x)))"
      ],
      "metadata": {
        "colab": {
          "base_uri": "https://localhost:8080/"
        },
        "id": "TxNNHwuXqd3h",
        "outputId": "158d70ff-430f-4e8c-e7c5-7d69eef2a3b1"
      },
      "execution_count": null,
      "outputs": [
        {
          "output_type": "stream",
          "name": "stdout",
          "text": [
            "4 has occurred 3 times\n"
          ]
        }
      ]
    }
  ]
}