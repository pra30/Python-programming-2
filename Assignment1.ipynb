{
  "nbformat": 4,
  "nbformat_minor": 0,
  "metadata": {
    "colab": {
      "name": "Assignment1.ipynb",
      "provenance": [],
      "collapsed_sections": []
    },
    "kernelspec": {
      "name": "python3",
      "display_name": "Python 3"
    },
    "language_info": {
      "name": "python"
    }
  },
  "cells": [
    {
      "cell_type": "markdown",
      "source": [
        "Section A: Fundamentals of Python"
      ],
      "metadata": {
        "id": "9Kgld1cdcHch"
      }
    },
    {
      "cell_type": "code",
      "execution_count": null,
      "metadata": {
        "colab": {
          "base_uri": "https://localhost:8080/"
        },
        "id": "Sx2nLMdrcD17",
        "outputId": "88e584eb-8ce9-441a-89da-78a12646f99c"
      },
      "outputs": [
        {
          "output_type": "stream",
          "name": "stdout",
          "text": [
            "Hello Python\n"
          ]
        }
      ],
      "source": [
        "# print “Hello Python”\n",
        "\n",
        "print(\"Hello Python\") "
      ]
    },
    {
      "cell_type": "code",
      "source": [
        "# arithmetical operations addition and division\n",
        "\n",
        "a = int(input(\"Enter no1 \"))\n",
        "b = int(input(\"Enter no2 \"))\n",
        "add = a + b\n",
        "div = a/b\n",
        "print(\"Addition\",add)\n",
        "print(\"Division\",div)"
      ],
      "metadata": {
        "colab": {
          "base_uri": "https://localhost:8080/"
        },
        "id": "_yHBGzyAcSXW",
        "outputId": "02e3a63c-dc12-413b-c40b-03efa7c606a5"
      },
      "execution_count": null,
      "outputs": [
        {
          "output_type": "stream",
          "name": "stdout",
          "text": [
            "Enter no1 33\n",
            "Enter no2 21\n",
            "Addition 54\n",
            "Division 1.5714285714285714\n"
          ]
        }
      ]
    },
    {
      "cell_type": "code",
      "source": [
        "# find the area of a triangle\n",
        "\n",
        "a = float(input(\"Enter value of base in cm \"))\n",
        "b = float(input(\"Enter value of height in cm \"))\n",
        "area = 0.5*a*b\n",
        "print(\"area is\",area)\n"
      ],
      "metadata": {
        "colab": {
          "base_uri": "https://localhost:8080/"
        },
        "id": "9uAcsSQVd91T",
        "outputId": "80013b58-3ffa-4e34-d9a0-a969359f2478"
      },
      "execution_count": null,
      "outputs": [
        {
          "output_type": "stream",
          "name": "stdout",
          "text": [
            "Enter value of base in cm 12\n",
            "Enter value of height in cm 34\n",
            "area is 204.0\n"
          ]
        }
      ]
    },
    {
      "cell_type": "code",
      "source": [
        "# Swap Variables\n",
        "\n",
        "a = 34\n",
        "b = 62\n",
        "\n",
        "a, b = b, a\n",
        "\n",
        "print(\"Value of a = \", a)\n",
        "print(\"Value of b = \", b)"
      ],
      "metadata": {
        "colab": {
          "base_uri": "https://localhost:8080/"
        },
        "id": "qvhL3KyG-1i8",
        "outputId": "f4b22107-d1a1-4bb0-d7b3-4226dac0cf27"
      },
      "execution_count": null,
      "outputs": [
        {
          "output_type": "stream",
          "name": "stdout",
          "text": [
            "Value of a =  62\n",
            "Value of b =  34\n"
          ]
        }
      ]
    },
    {
      "cell_type": "code",
      "source": [
        "# generate a random number\n",
        "\n",
        "import random\n",
        "a = random.random()\n",
        "print(a)\n"
      ],
      "metadata": {
        "colab": {
          "base_uri": "https://localhost:8080/"
        },
        "id": "tLMp7CvoAbgO",
        "outputId": "86b3f84e-9e0a-4f13-d631-27c99428059f"
      },
      "execution_count": null,
      "outputs": [
        {
          "output_type": "stream",
          "name": "stdout",
          "text": [
            "0.735255715340267\n"
          ]
        }
      ]
    },
    {
      "cell_type": "markdown",
      "source": [
        "Section B:"
      ],
      "metadata": {
        "id": "pt5pjKvXBgD-"
      }
    },
    {
      "cell_type": "code",
      "source": [
        "# convert kilometers to miles\n",
        "\n",
        "km = float(input(\"Enter value in kilometers: \"))\n",
        "miles = km * 0.621371\n",
        "print(km,\"kilometers is equal to\",miles,\"miles\")"
      ],
      "metadata": {
        "colab": {
          "base_uri": "https://localhost:8080/"
        },
        "id": "f5n22K9ZBo-4",
        "outputId": "544f912f-01b5-4972-f787-016c085a220b"
      },
      "execution_count": null,
      "outputs": [
        {
          "output_type": "stream",
          "name": "stdout",
          "text": [
            "Enter value in kilometers: 300\n",
            "300.0 kilometers is equal to 186.4113 miles\n"
          ]
        }
      ]
    },
    {
      "cell_type": "code",
      "source": [
        "# convert Celsius to Fahrenheit\n",
        "\n",
        "cels = float(input(\"Enter value in celsius: \"))\n",
        "farehit = (cels * 1.8) + 32\n",
        "print(cels,\"degree celsius is equal to\",farehit,\"degree fahrenheit\")"
      ],
      "metadata": {
        "colab": {
          "base_uri": "https://localhost:8080/"
        },
        "id": "C7fPNan2B52F",
        "outputId": "600cc622-db62-4ad2-8325-2429f8e00fc0"
      },
      "execution_count": null,
      "outputs": [
        {
          "output_type": "stream",
          "name": "stdout",
          "text": [
            "Enter value in celsius: 38\n",
            "38.0 degree celsius is equal to 100.4 degree fahrenheit\n"
          ]
        }
      ]
    },
    {
      "cell_type": "code",
      "source": [
        "# Display Calendar\n",
        "\n",
        "import calendar\n",
        "yy = 2024\n",
        "print(calendar.calendar(yy))"
      ],
      "metadata": {
        "colab": {
          "base_uri": "https://localhost:8080/"
        },
        "id": "l3rq2QzsCHfb",
        "outputId": "3262acec-7fc2-4ed8-8aa7-3030bee1dfb6"
      },
      "execution_count": null,
      "outputs": [
        {
          "output_type": "stream",
          "name": "stdout",
          "text": [
            "                                  2024\n",
            "\n",
            "      January                   February                   March\n",
            "Mo Tu We Th Fr Sa Su      Mo Tu We Th Fr Sa Su      Mo Tu We Th Fr Sa Su\n",
            " 1  2  3  4  5  6  7                1  2  3  4                   1  2  3\n",
            " 8  9 10 11 12 13 14       5  6  7  8  9 10 11       4  5  6  7  8  9 10\n",
            "15 16 17 18 19 20 21      12 13 14 15 16 17 18      11 12 13 14 15 16 17\n",
            "22 23 24 25 26 27 28      19 20 21 22 23 24 25      18 19 20 21 22 23 24\n",
            "29 30 31                  26 27 28 29               25 26 27 28 29 30 31\n",
            "\n",
            "       April                      May                       June\n",
            "Mo Tu We Th Fr Sa Su      Mo Tu We Th Fr Sa Su      Mo Tu We Th Fr Sa Su\n",
            " 1  2  3  4  5  6  7             1  2  3  4  5                      1  2\n",
            " 8  9 10 11 12 13 14       6  7  8  9 10 11 12       3  4  5  6  7  8  9\n",
            "15 16 17 18 19 20 21      13 14 15 16 17 18 19      10 11 12 13 14 15 16\n",
            "22 23 24 25 26 27 28      20 21 22 23 24 25 26      17 18 19 20 21 22 23\n",
            "29 30                     27 28 29 30 31            24 25 26 27 28 29 30\n",
            "\n",
            "        July                     August                  September\n",
            "Mo Tu We Th Fr Sa Su      Mo Tu We Th Fr Sa Su      Mo Tu We Th Fr Sa Su\n",
            " 1  2  3  4  5  6  7                1  2  3  4                         1\n",
            " 8  9 10 11 12 13 14       5  6  7  8  9 10 11       2  3  4  5  6  7  8\n",
            "15 16 17 18 19 20 21      12 13 14 15 16 17 18       9 10 11 12 13 14 15\n",
            "22 23 24 25 26 27 28      19 20 21 22 23 24 25      16 17 18 19 20 21 22\n",
            "29 30 31                  26 27 28 29 30 31         23 24 25 26 27 28 29\n",
            "                                                    30\n",
            "\n",
            "      October                   November                  December\n",
            "Mo Tu We Th Fr Sa Su      Mo Tu We Th Fr Sa Su      Mo Tu We Th Fr Sa Su\n",
            "    1  2  3  4  5  6                   1  2  3                         1\n",
            " 7  8  9 10 11 12 13       4  5  6  7  8  9 10       2  3  4  5  6  7  8\n",
            "14 15 16 17 18 19 20      11 12 13 14 15 16 17       9 10 11 12 13 14 15\n",
            "21 22 23 24 25 26 27      18 19 20 21 22 23 24      16 17 18 19 20 21 22\n",
            "28 29 30 31               25 26 27 28 29 30         23 24 25 26 27 28 29\n",
            "                                                    30 31\n",
            "\n"
          ]
        }
      ]
    },
    {
      "cell_type": "code",
      "source": [
        "# solve quadratic equation\n",
        "\n",
        "import cmath\n",
        "a = int(input(\"Enter value of a \"))\n",
        "b = int(input(\"Enter value of b \"))\n",
        "c = int(input(\"Enter value of c \"))\n",
        "\n",
        "d = (b**2) - (4*a*c)\n",
        "\n",
        "sol1 = (-b-cmath.sqrt(d))/(2*a)\n",
        "sol2 = (-b+cmath.sqrt(d))/(2*a)\n",
        "print('The solution are {0} and {1}'.format(sol1,sol2))"
      ],
      "metadata": {
        "colab": {
          "base_uri": "https://localhost:8080/"
        },
        "id": "qmPI1hRVChWk",
        "outputId": "d960a306-c144-4246-d637-357103350942"
      },
      "execution_count": null,
      "outputs": [
        {
          "output_type": "stream",
          "name": "stdout",
          "text": [
            "Enter value of a 4\n",
            "Enter value of b 6\n",
            "Enter value of c 2\n",
            "The solution are (-1+0j) and (-0.5+0j)\n"
          ]
        }
      ]
    },
    {
      "cell_type": "code",
      "source": [
        "# Swap variables without temp\n",
        "\n",
        "x = 76\n",
        "y = 34\n",
        "\n",
        "x = x ^ y\n",
        "y = x ^ y\n",
        "x = x ^ y\n",
        "\n",
        "print(\"Value of x= \",x)\n",
        "print(\"Value of y= \",y)"
      ],
      "metadata": {
        "colab": {
          "base_uri": "https://localhost:8080/"
        },
        "id": "tgWZumBYC_Uk",
        "outputId": "d0529d13-63a3-4e82-dcf1-374984743967"
      },
      "execution_count": null,
      "outputs": [
        {
          "output_type": "stream",
          "name": "stdout",
          "text": [
            "Value of x=  34\n",
            "Value of y=  76\n"
          ]
        }
      ]
    },
    {
      "cell_type": "markdown",
      "source": [
        "Section C:"
      ],
      "metadata": {
        "id": "UEKdEN7EDfKr"
      }
    },
    {
      "cell_type": "code",
      "source": [
        "# Check if a Number is Positive, Negative or Zero\n",
        "\n",
        "num = int(input(\"Enter number \"))\n",
        "if num > 0:\n",
        "  print(\"Your number is positive\")\n",
        "elif num == 0:\n",
        "  print(\"Your number is zero\")\n",
        "else:\n",
        "  print(\"Your number is negative\")"
      ],
      "metadata": {
        "colab": {
          "base_uri": "https://localhost:8080/"
        },
        "id": "atRMwg8mDm_l",
        "outputId": "9ac5b2fc-e0bc-447a-b2bc-cd2deac7df2b"
      },
      "execution_count": null,
      "outputs": [
        {
          "output_type": "stream",
          "name": "stdout",
          "text": [
            "Enter number 53\n",
            "Your number is positive\n"
          ]
        }
      ]
    },
    {
      "cell_type": "code",
      "source": [
        "# Check if a Number is Odd or Even\n",
        "\n",
        "num = int(input(\"Enter number \"))\n",
        "if num % 2 ==0:\n",
        "  print(\"Your number is even\")\n",
        "else:\n",
        "  print(\"Your number is odd\")\n",
        "\n"
      ],
      "metadata": {
        "colab": {
          "base_uri": "https://localhost:8080/"
        },
        "id": "ZjNmWL6OFbdJ",
        "outputId": "b8f51d85-cd01-4173-fdfe-bd5beaf2ea1b"
      },
      "execution_count": null,
      "outputs": [
        {
          "output_type": "stream",
          "name": "stdout",
          "text": [
            "Enter number 31\n",
            "Your number is odd\n"
          ]
        }
      ]
    },
    {
      "cell_type": "code",
      "source": [
        "# Check Leap Year\n",
        "\n",
        "def CheckYear(year):\n",
        "    import calendar\n",
        "    return(calendar.isleap(year))\n",
        "\n",
        "year = int(input(\"Enter value of year \"))\n",
        "if (CheckYear(year)):\n",
        "    print(\"Leap Year\")\n",
        "else:\n",
        "    print(\"Not a Leap Year\")"
      ],
      "metadata": {
        "colab": {
          "base_uri": "https://localhost:8080/"
        },
        "id": "sT3DlpdrGNUh",
        "outputId": "114e0b02-7e47-4a4a-e88c-99c8c4e3d7cc"
      },
      "execution_count": null,
      "outputs": [
        {
          "output_type": "stream",
          "name": "stdout",
          "text": [
            "Enter value of year 2020\n",
            "Leap Year\n"
          ]
        }
      ]
    },
    {
      "cell_type": "code",
      "source": [
        "# Check Prime Number\n",
        "\n",
        "num = int(input(\"Enter number \"))\n",
        "\n",
        "if num > 1:\n",
        "    for i in range(2, int(num/2)+1):\n",
        "        if (num % i) == 0:\n",
        "            print(num, \"is not a prime number\")\n",
        "            break\n",
        "    else:\n",
        "            print(num, \"is a prime number\")\n",
        "else:\n",
        "    print(num, \"is not a prime number\")"
      ],
      "metadata": {
        "colab": {
          "base_uri": "https://localhost:8080/"
        },
        "id": "jVBEID61Ga-K",
        "outputId": "8a0eb984-1e43-4e1e-f3cd-48140ee0b8d2"
      },
      "execution_count": null,
      "outputs": [
        {
          "output_type": "stream",
          "name": "stdout",
          "text": [
            "Enter number 11\n",
            "11 is a prime number\n"
          ]
        }
      ]
    },
    {
      "cell_type": "code",
      "source": [
        "# Prime Numbers in an Interval of 1-10000\n",
        "\n",
        "lower = 1\n",
        "upper = 10000\n",
        "\n",
        "print(\"Prime numbers between\",lower,\"and\",upper)\n",
        "for num in range(lower, upper +1):\n",
        "    if num > 1:\n",
        "        for i in range(2, num):\n",
        "            if (num % i) == 0:\n",
        "                break\n",
        "        else:\n",
        "            print(num)"
      ],
      "metadata": {
        "colab": {
          "base_uri": "https://localhost:8080/"
        },
        "id": "jPGYiWY2Gsm2",
        "outputId": "73c44dc8-ba85-4c4a-aa7b-9a347476befb"
      },
      "execution_count": null,
      "outputs": [
        {
          "output_type": "stream",
          "name": "stdout",
          "text": [
            "Prime numbers between 1 and 10000\n",
            "2\n",
            "3\n",
            "5\n",
            "7\n",
            "11\n",
            "13\n",
            "17\n",
            "19\n",
            "23\n",
            "29\n",
            "31\n",
            "37\n",
            "41\n",
            "43\n",
            "47\n",
            "53\n",
            "59\n",
            "61\n",
            "67\n",
            "71\n",
            "73\n",
            "79\n",
            "83\n",
            "89\n",
            "97\n",
            "101\n",
            "103\n",
            "107\n",
            "109\n",
            "113\n",
            "127\n",
            "131\n",
            "137\n",
            "139\n",
            "149\n",
            "151\n",
            "157\n",
            "163\n",
            "167\n",
            "173\n",
            "179\n",
            "181\n",
            "191\n",
            "193\n",
            "197\n",
            "199\n",
            "211\n",
            "223\n",
            "227\n",
            "229\n",
            "233\n",
            "239\n",
            "241\n",
            "251\n",
            "257\n",
            "263\n",
            "269\n",
            "271\n",
            "277\n",
            "281\n",
            "283\n",
            "293\n",
            "307\n",
            "311\n",
            "313\n",
            "317\n",
            "331\n",
            "337\n",
            "347\n",
            "349\n",
            "353\n",
            "359\n",
            "367\n",
            "373\n",
            "379\n",
            "383\n",
            "389\n",
            "397\n",
            "401\n",
            "409\n",
            "419\n",
            "421\n",
            "431\n",
            "433\n",
            "439\n",
            "443\n",
            "449\n",
            "457\n",
            "461\n",
            "463\n",
            "467\n",
            "479\n",
            "487\n",
            "491\n",
            "499\n",
            "503\n",
            "509\n",
            "521\n",
            "523\n",
            "541\n",
            "547\n",
            "557\n",
            "563\n",
            "569\n",
            "571\n",
            "577\n",
            "587\n",
            "593\n",
            "599\n",
            "601\n",
            "607\n",
            "613\n",
            "617\n",
            "619\n",
            "631\n",
            "641\n",
            "643\n",
            "647\n",
            "653\n",
            "659\n",
            "661\n",
            "673\n",
            "677\n",
            "683\n",
            "691\n",
            "701\n",
            "709\n",
            "719\n",
            "727\n",
            "733\n",
            "739\n",
            "743\n",
            "751\n",
            "757\n",
            "761\n",
            "769\n",
            "773\n",
            "787\n",
            "797\n",
            "809\n",
            "811\n",
            "821\n",
            "823\n",
            "827\n",
            "829\n",
            "839\n",
            "853\n",
            "857\n",
            "859\n",
            "863\n",
            "877\n",
            "881\n",
            "883\n",
            "887\n",
            "907\n",
            "911\n",
            "919\n",
            "929\n",
            "937\n",
            "941\n",
            "947\n",
            "953\n",
            "967\n",
            "971\n",
            "977\n",
            "983\n",
            "991\n",
            "997\n",
            "1009\n",
            "1013\n",
            "1019\n",
            "1021\n",
            "1031\n",
            "1033\n",
            "1039\n",
            "1049\n",
            "1051\n",
            "1061\n",
            "1063\n",
            "1069\n",
            "1087\n",
            "1091\n",
            "1093\n",
            "1097\n",
            "1103\n",
            "1109\n",
            "1117\n",
            "1123\n",
            "1129\n",
            "1151\n",
            "1153\n",
            "1163\n",
            "1171\n",
            "1181\n",
            "1187\n",
            "1193\n",
            "1201\n",
            "1213\n",
            "1217\n",
            "1223\n",
            "1229\n",
            "1231\n",
            "1237\n",
            "1249\n",
            "1259\n",
            "1277\n",
            "1279\n",
            "1283\n",
            "1289\n",
            "1291\n",
            "1297\n",
            "1301\n",
            "1303\n",
            "1307\n",
            "1319\n",
            "1321\n",
            "1327\n",
            "1361\n",
            "1367\n",
            "1373\n",
            "1381\n",
            "1399\n",
            "1409\n",
            "1423\n",
            "1427\n",
            "1429\n",
            "1433\n",
            "1439\n",
            "1447\n",
            "1451\n",
            "1453\n",
            "1459\n",
            "1471\n",
            "1481\n",
            "1483\n",
            "1487\n",
            "1489\n",
            "1493\n",
            "1499\n",
            "1511\n",
            "1523\n",
            "1531\n",
            "1543\n",
            "1549\n",
            "1553\n",
            "1559\n",
            "1567\n",
            "1571\n",
            "1579\n",
            "1583\n",
            "1597\n",
            "1601\n",
            "1607\n",
            "1609\n",
            "1613\n",
            "1619\n",
            "1621\n",
            "1627\n",
            "1637\n",
            "1657\n",
            "1663\n",
            "1667\n",
            "1669\n",
            "1693\n",
            "1697\n",
            "1699\n",
            "1709\n",
            "1721\n",
            "1723\n",
            "1733\n",
            "1741\n",
            "1747\n",
            "1753\n",
            "1759\n",
            "1777\n",
            "1783\n",
            "1787\n",
            "1789\n",
            "1801\n",
            "1811\n",
            "1823\n",
            "1831\n",
            "1847\n",
            "1861\n",
            "1867\n",
            "1871\n",
            "1873\n",
            "1877\n",
            "1879\n",
            "1889\n",
            "1901\n",
            "1907\n",
            "1913\n",
            "1931\n",
            "1933\n",
            "1949\n",
            "1951\n",
            "1973\n",
            "1979\n",
            "1987\n",
            "1993\n",
            "1997\n",
            "1999\n",
            "2003\n",
            "2011\n",
            "2017\n",
            "2027\n",
            "2029\n",
            "2039\n",
            "2053\n",
            "2063\n",
            "2069\n",
            "2081\n",
            "2083\n",
            "2087\n",
            "2089\n",
            "2099\n",
            "2111\n",
            "2113\n",
            "2129\n",
            "2131\n",
            "2137\n",
            "2141\n",
            "2143\n",
            "2153\n",
            "2161\n",
            "2179\n",
            "2203\n",
            "2207\n",
            "2213\n",
            "2221\n",
            "2237\n",
            "2239\n",
            "2243\n",
            "2251\n",
            "2267\n",
            "2269\n",
            "2273\n",
            "2281\n",
            "2287\n",
            "2293\n",
            "2297\n",
            "2309\n",
            "2311\n",
            "2333\n",
            "2339\n",
            "2341\n",
            "2347\n",
            "2351\n",
            "2357\n",
            "2371\n",
            "2377\n",
            "2381\n",
            "2383\n",
            "2389\n",
            "2393\n",
            "2399\n",
            "2411\n",
            "2417\n",
            "2423\n",
            "2437\n",
            "2441\n",
            "2447\n",
            "2459\n",
            "2467\n",
            "2473\n",
            "2477\n",
            "2503\n",
            "2521\n",
            "2531\n",
            "2539\n",
            "2543\n",
            "2549\n",
            "2551\n",
            "2557\n",
            "2579\n",
            "2591\n",
            "2593\n",
            "2609\n",
            "2617\n",
            "2621\n",
            "2633\n",
            "2647\n",
            "2657\n",
            "2659\n",
            "2663\n",
            "2671\n",
            "2677\n",
            "2683\n",
            "2687\n",
            "2689\n",
            "2693\n",
            "2699\n",
            "2707\n",
            "2711\n",
            "2713\n",
            "2719\n",
            "2729\n",
            "2731\n",
            "2741\n",
            "2749\n",
            "2753\n",
            "2767\n",
            "2777\n",
            "2789\n",
            "2791\n",
            "2797\n",
            "2801\n",
            "2803\n",
            "2819\n",
            "2833\n",
            "2837\n",
            "2843\n",
            "2851\n",
            "2857\n",
            "2861\n",
            "2879\n",
            "2887\n",
            "2897\n",
            "2903\n",
            "2909\n",
            "2917\n",
            "2927\n",
            "2939\n",
            "2953\n",
            "2957\n",
            "2963\n",
            "2969\n",
            "2971\n",
            "2999\n",
            "3001\n",
            "3011\n",
            "3019\n",
            "3023\n",
            "3037\n",
            "3041\n",
            "3049\n",
            "3061\n",
            "3067\n",
            "3079\n",
            "3083\n",
            "3089\n",
            "3109\n",
            "3119\n",
            "3121\n",
            "3137\n",
            "3163\n",
            "3167\n",
            "3169\n",
            "3181\n",
            "3187\n",
            "3191\n",
            "3203\n",
            "3209\n",
            "3217\n",
            "3221\n",
            "3229\n",
            "3251\n",
            "3253\n",
            "3257\n",
            "3259\n",
            "3271\n",
            "3299\n",
            "3301\n",
            "3307\n",
            "3313\n",
            "3319\n",
            "3323\n",
            "3329\n",
            "3331\n",
            "3343\n",
            "3347\n",
            "3359\n",
            "3361\n",
            "3371\n",
            "3373\n",
            "3389\n",
            "3391\n",
            "3407\n",
            "3413\n",
            "3433\n",
            "3449\n",
            "3457\n",
            "3461\n",
            "3463\n",
            "3467\n",
            "3469\n",
            "3491\n",
            "3499\n",
            "3511\n",
            "3517\n",
            "3527\n",
            "3529\n",
            "3533\n",
            "3539\n",
            "3541\n",
            "3547\n",
            "3557\n",
            "3559\n",
            "3571\n",
            "3581\n",
            "3583\n",
            "3593\n",
            "3607\n",
            "3613\n",
            "3617\n",
            "3623\n",
            "3631\n",
            "3637\n",
            "3643\n",
            "3659\n",
            "3671\n",
            "3673\n",
            "3677\n",
            "3691\n",
            "3697\n",
            "3701\n",
            "3709\n",
            "3719\n",
            "3727\n",
            "3733\n",
            "3739\n",
            "3761\n",
            "3767\n",
            "3769\n",
            "3779\n",
            "3793\n",
            "3797\n",
            "3803\n",
            "3821\n",
            "3823\n",
            "3833\n",
            "3847\n",
            "3851\n",
            "3853\n",
            "3863\n",
            "3877\n",
            "3881\n",
            "3889\n",
            "3907\n",
            "3911\n",
            "3917\n",
            "3919\n",
            "3923\n",
            "3929\n",
            "3931\n",
            "3943\n",
            "3947\n",
            "3967\n",
            "3989\n",
            "4001\n",
            "4003\n",
            "4007\n",
            "4013\n",
            "4019\n",
            "4021\n",
            "4027\n",
            "4049\n",
            "4051\n",
            "4057\n",
            "4073\n",
            "4079\n",
            "4091\n",
            "4093\n",
            "4099\n",
            "4111\n",
            "4127\n",
            "4129\n",
            "4133\n",
            "4139\n",
            "4153\n",
            "4157\n",
            "4159\n",
            "4177\n",
            "4201\n",
            "4211\n",
            "4217\n",
            "4219\n",
            "4229\n",
            "4231\n",
            "4241\n",
            "4243\n",
            "4253\n",
            "4259\n",
            "4261\n",
            "4271\n",
            "4273\n",
            "4283\n",
            "4289\n",
            "4297\n",
            "4327\n",
            "4337\n",
            "4339\n",
            "4349\n",
            "4357\n",
            "4363\n",
            "4373\n",
            "4391\n",
            "4397\n",
            "4409\n",
            "4421\n",
            "4423\n",
            "4441\n",
            "4447\n",
            "4451\n",
            "4457\n",
            "4463\n",
            "4481\n",
            "4483\n",
            "4493\n",
            "4507\n",
            "4513\n",
            "4517\n",
            "4519\n",
            "4523\n",
            "4547\n",
            "4549\n",
            "4561\n",
            "4567\n",
            "4583\n",
            "4591\n",
            "4597\n",
            "4603\n",
            "4621\n",
            "4637\n",
            "4639\n",
            "4643\n",
            "4649\n",
            "4651\n",
            "4657\n",
            "4663\n",
            "4673\n",
            "4679\n",
            "4691\n",
            "4703\n",
            "4721\n",
            "4723\n",
            "4729\n",
            "4733\n",
            "4751\n",
            "4759\n",
            "4783\n",
            "4787\n",
            "4789\n",
            "4793\n",
            "4799\n",
            "4801\n",
            "4813\n",
            "4817\n",
            "4831\n",
            "4861\n",
            "4871\n",
            "4877\n",
            "4889\n",
            "4903\n",
            "4909\n",
            "4919\n",
            "4931\n",
            "4933\n",
            "4937\n",
            "4943\n",
            "4951\n",
            "4957\n",
            "4967\n",
            "4969\n",
            "4973\n",
            "4987\n",
            "4993\n",
            "4999\n",
            "5003\n",
            "5009\n",
            "5011\n",
            "5021\n",
            "5023\n",
            "5039\n",
            "5051\n",
            "5059\n",
            "5077\n",
            "5081\n",
            "5087\n",
            "5099\n",
            "5101\n",
            "5107\n",
            "5113\n",
            "5119\n",
            "5147\n",
            "5153\n",
            "5167\n",
            "5171\n",
            "5179\n",
            "5189\n",
            "5197\n",
            "5209\n",
            "5227\n",
            "5231\n",
            "5233\n",
            "5237\n",
            "5261\n",
            "5273\n",
            "5279\n",
            "5281\n",
            "5297\n",
            "5303\n",
            "5309\n",
            "5323\n",
            "5333\n",
            "5347\n",
            "5351\n",
            "5381\n",
            "5387\n",
            "5393\n",
            "5399\n",
            "5407\n",
            "5413\n",
            "5417\n",
            "5419\n",
            "5431\n",
            "5437\n",
            "5441\n",
            "5443\n",
            "5449\n",
            "5471\n",
            "5477\n",
            "5479\n",
            "5483\n",
            "5501\n",
            "5503\n",
            "5507\n",
            "5519\n",
            "5521\n",
            "5527\n",
            "5531\n",
            "5557\n",
            "5563\n",
            "5569\n",
            "5573\n",
            "5581\n",
            "5591\n",
            "5623\n",
            "5639\n",
            "5641\n",
            "5647\n",
            "5651\n",
            "5653\n",
            "5657\n",
            "5659\n",
            "5669\n",
            "5683\n",
            "5689\n",
            "5693\n",
            "5701\n",
            "5711\n",
            "5717\n",
            "5737\n",
            "5741\n",
            "5743\n",
            "5749\n",
            "5779\n",
            "5783\n",
            "5791\n",
            "5801\n",
            "5807\n",
            "5813\n",
            "5821\n",
            "5827\n",
            "5839\n",
            "5843\n",
            "5849\n",
            "5851\n",
            "5857\n",
            "5861\n",
            "5867\n",
            "5869\n",
            "5879\n",
            "5881\n",
            "5897\n",
            "5903\n",
            "5923\n",
            "5927\n",
            "5939\n",
            "5953\n",
            "5981\n",
            "5987\n",
            "6007\n",
            "6011\n",
            "6029\n",
            "6037\n",
            "6043\n",
            "6047\n",
            "6053\n",
            "6067\n",
            "6073\n",
            "6079\n",
            "6089\n",
            "6091\n",
            "6101\n",
            "6113\n",
            "6121\n",
            "6131\n",
            "6133\n",
            "6143\n",
            "6151\n",
            "6163\n",
            "6173\n",
            "6197\n",
            "6199\n",
            "6203\n",
            "6211\n",
            "6217\n",
            "6221\n",
            "6229\n",
            "6247\n",
            "6257\n",
            "6263\n",
            "6269\n",
            "6271\n",
            "6277\n",
            "6287\n",
            "6299\n",
            "6301\n",
            "6311\n",
            "6317\n",
            "6323\n",
            "6329\n",
            "6337\n",
            "6343\n",
            "6353\n",
            "6359\n",
            "6361\n",
            "6367\n",
            "6373\n",
            "6379\n",
            "6389\n",
            "6397\n",
            "6421\n",
            "6427\n",
            "6449\n",
            "6451\n",
            "6469\n",
            "6473\n",
            "6481\n",
            "6491\n",
            "6521\n",
            "6529\n",
            "6547\n",
            "6551\n",
            "6553\n",
            "6563\n",
            "6569\n",
            "6571\n",
            "6577\n",
            "6581\n",
            "6599\n",
            "6607\n",
            "6619\n",
            "6637\n",
            "6653\n",
            "6659\n",
            "6661\n",
            "6673\n",
            "6679\n",
            "6689\n",
            "6691\n",
            "6701\n",
            "6703\n",
            "6709\n",
            "6719\n",
            "6733\n",
            "6737\n",
            "6761\n",
            "6763\n",
            "6779\n",
            "6781\n",
            "6791\n",
            "6793\n",
            "6803\n",
            "6823\n",
            "6827\n",
            "6829\n",
            "6833\n",
            "6841\n",
            "6857\n",
            "6863\n",
            "6869\n",
            "6871\n",
            "6883\n",
            "6899\n",
            "6907\n",
            "6911\n",
            "6917\n",
            "6947\n",
            "6949\n",
            "6959\n",
            "6961\n",
            "6967\n",
            "6971\n",
            "6977\n",
            "6983\n",
            "6991\n",
            "6997\n",
            "7001\n",
            "7013\n",
            "7019\n",
            "7027\n",
            "7039\n",
            "7043\n",
            "7057\n",
            "7069\n",
            "7079\n",
            "7103\n",
            "7109\n",
            "7121\n",
            "7127\n",
            "7129\n",
            "7151\n",
            "7159\n",
            "7177\n",
            "7187\n",
            "7193\n",
            "7207\n",
            "7211\n",
            "7213\n",
            "7219\n",
            "7229\n",
            "7237\n",
            "7243\n",
            "7247\n",
            "7253\n",
            "7283\n",
            "7297\n",
            "7307\n",
            "7309\n",
            "7321\n",
            "7331\n",
            "7333\n",
            "7349\n",
            "7351\n",
            "7369\n",
            "7393\n",
            "7411\n",
            "7417\n",
            "7433\n",
            "7451\n",
            "7457\n",
            "7459\n",
            "7477\n",
            "7481\n",
            "7487\n",
            "7489\n",
            "7499\n",
            "7507\n",
            "7517\n",
            "7523\n",
            "7529\n",
            "7537\n",
            "7541\n",
            "7547\n",
            "7549\n",
            "7559\n",
            "7561\n",
            "7573\n",
            "7577\n",
            "7583\n",
            "7589\n",
            "7591\n",
            "7603\n",
            "7607\n",
            "7621\n",
            "7639\n",
            "7643\n",
            "7649\n",
            "7669\n",
            "7673\n",
            "7681\n",
            "7687\n",
            "7691\n",
            "7699\n",
            "7703\n",
            "7717\n",
            "7723\n",
            "7727\n",
            "7741\n",
            "7753\n",
            "7757\n",
            "7759\n",
            "7789\n",
            "7793\n",
            "7817\n",
            "7823\n",
            "7829\n",
            "7841\n",
            "7853\n",
            "7867\n",
            "7873\n",
            "7877\n",
            "7879\n",
            "7883\n",
            "7901\n",
            "7907\n",
            "7919\n",
            "7927\n",
            "7933\n",
            "7937\n",
            "7949\n",
            "7951\n",
            "7963\n",
            "7993\n",
            "8009\n",
            "8011\n",
            "8017\n",
            "8039\n",
            "8053\n",
            "8059\n",
            "8069\n",
            "8081\n",
            "8087\n",
            "8089\n",
            "8093\n",
            "8101\n",
            "8111\n",
            "8117\n",
            "8123\n",
            "8147\n",
            "8161\n",
            "8167\n",
            "8171\n",
            "8179\n",
            "8191\n",
            "8209\n",
            "8219\n",
            "8221\n",
            "8231\n",
            "8233\n",
            "8237\n",
            "8243\n",
            "8263\n",
            "8269\n",
            "8273\n",
            "8287\n",
            "8291\n",
            "8293\n",
            "8297\n",
            "8311\n",
            "8317\n",
            "8329\n",
            "8353\n",
            "8363\n",
            "8369\n",
            "8377\n",
            "8387\n",
            "8389\n",
            "8419\n",
            "8423\n",
            "8429\n",
            "8431\n",
            "8443\n",
            "8447\n",
            "8461\n",
            "8467\n",
            "8501\n",
            "8513\n",
            "8521\n",
            "8527\n",
            "8537\n",
            "8539\n",
            "8543\n",
            "8563\n",
            "8573\n",
            "8581\n",
            "8597\n",
            "8599\n",
            "8609\n",
            "8623\n",
            "8627\n",
            "8629\n",
            "8641\n",
            "8647\n",
            "8663\n",
            "8669\n",
            "8677\n",
            "8681\n",
            "8689\n",
            "8693\n",
            "8699\n",
            "8707\n",
            "8713\n",
            "8719\n",
            "8731\n",
            "8737\n",
            "8741\n",
            "8747\n",
            "8753\n",
            "8761\n",
            "8779\n",
            "8783\n",
            "8803\n",
            "8807\n",
            "8819\n",
            "8821\n",
            "8831\n",
            "8837\n",
            "8839\n",
            "8849\n",
            "8861\n",
            "8863\n",
            "8867\n",
            "8887\n",
            "8893\n",
            "8923\n",
            "8929\n",
            "8933\n",
            "8941\n",
            "8951\n",
            "8963\n",
            "8969\n",
            "8971\n",
            "8999\n",
            "9001\n",
            "9007\n",
            "9011\n",
            "9013\n",
            "9029\n",
            "9041\n",
            "9043\n",
            "9049\n",
            "9059\n",
            "9067\n",
            "9091\n",
            "9103\n",
            "9109\n",
            "9127\n",
            "9133\n",
            "9137\n",
            "9151\n",
            "9157\n",
            "9161\n",
            "9173\n",
            "9181\n",
            "9187\n",
            "9199\n",
            "9203\n",
            "9209\n",
            "9221\n",
            "9227\n",
            "9239\n",
            "9241\n",
            "9257\n",
            "9277\n",
            "9281\n",
            "9283\n",
            "9293\n",
            "9311\n",
            "9319\n",
            "9323\n",
            "9337\n",
            "9341\n",
            "9343\n",
            "9349\n",
            "9371\n",
            "9377\n",
            "9391\n",
            "9397\n",
            "9403\n",
            "9413\n",
            "9419\n",
            "9421\n",
            "9431\n",
            "9433\n",
            "9437\n",
            "9439\n",
            "9461\n",
            "9463\n",
            "9467\n",
            "9473\n",
            "9479\n",
            "9491\n",
            "9497\n",
            "9511\n",
            "9521\n",
            "9533\n",
            "9539\n",
            "9547\n",
            "9551\n",
            "9587\n",
            "9601\n",
            "9613\n",
            "9619\n",
            "9623\n",
            "9629\n",
            "9631\n",
            "9643\n",
            "9649\n",
            "9661\n",
            "9677\n",
            "9679\n",
            "9689\n",
            "9697\n",
            "9719\n",
            "9721\n",
            "9733\n",
            "9739\n",
            "9743\n",
            "9749\n",
            "9767\n",
            "9769\n",
            "9781\n",
            "9787\n",
            "9791\n",
            "9803\n",
            "9811\n",
            "9817\n",
            "9829\n",
            "9833\n",
            "9839\n",
            "9851\n",
            "9857\n",
            "9859\n",
            "9871\n",
            "9883\n",
            "9887\n",
            "9901\n",
            "9907\n",
            "9923\n",
            "9929\n",
            "9931\n",
            "9941\n",
            "9949\n",
            "9967\n",
            "9973\n"
          ]
        }
      ]
    },
    {
      "cell_type": "markdown",
      "source": [
        "Section D:"
      ],
      "metadata": {
        "id": "8l58u_VnHA74"
      }
    },
    {
      "cell_type": "code",
      "source": [
        "# Find the Factorial of a Number\n",
        "\n",
        "num = int(input(\"Enter no \"))\n",
        "fact = 1\n",
        "for i in range(1,num+1):\n",
        "  fact = fact * i\n",
        "print(\"Factorial of\",num,\"is\",fact)"
      ],
      "metadata": {
        "colab": {
          "base_uri": "https://localhost:8080/"
        },
        "id": "iK6wn42mHDkT",
        "outputId": "fb9cc155-d372-4c98-92e4-17e81e9e9231"
      },
      "execution_count": null,
      "outputs": [
        {
          "output_type": "stream",
          "name": "stdout",
          "text": [
            "Enter no 8\n",
            "Factorial of 8 is 40320\n"
          ]
        }
      ]
    },
    {
      "cell_type": "code",
      "source": [
        "# Display the multiplication Table\n",
        "\n",
        "num = int(input(\"Enter the number which wants to print multiplication table \"))\n",
        "print(\"The multiplication table of:\",num)\n",
        "for i in range(1,11):\n",
        "    print(num,\"X\",i,\"=\",num*i)"
      ],
      "metadata": {
        "colab": {
          "base_uri": "https://localhost:8080/"
        },
        "id": "RhbiB7IcIX3e",
        "outputId": "988c4dc9-a654-4d28-ba58-8d750f4df6af"
      },
      "execution_count": null,
      "outputs": [
        {
          "output_type": "stream",
          "name": "stdout",
          "text": [
            "Enter the number which wants to print multiplication table 7\n",
            "The multiplication table of: 7\n",
            "7 X 1 = 7\n",
            "7 X 2 = 14\n",
            "7 X 3 = 21\n",
            "7 X 4 = 28\n",
            "7 X 5 = 35\n",
            "7 X 6 = 42\n",
            "7 X 7 = 49\n",
            "7 X 8 = 56\n",
            "7 X 9 = 63\n",
            "7 X 10 = 70\n"
          ]
        }
      ]
    },
    {
      "cell_type": "code",
      "source": [
        "# Print the Fibonacci sequence\n",
        "\n",
        "n_terms = int(input(\"How many terms the user wants to print?\"))\n",
        "\n",
        "# First two terms\n",
        "n_1 = 0\n",
        "n_2 = 1\n",
        "count = 0\n",
        "\n",
        "if n_terms <= 0:\n",
        "    print(\"Please enter a positive integer, the given number is not valid\")\n",
        "\n",
        "elif n_terms == 1:\n",
        "    print(\"The Fibonacci sequence of the numbers up to\",n_terms,\": \")\n",
        "    print(n_1)\n",
        "\n",
        "else:\n",
        "    print(\"THe fibonacci sequence of the numbers is:\")\n",
        "    while count < n_terms:\n",
        "        print(n_1)\n",
        "        nth = n_1 + n_2\n",
        "\n",
        "        n_1 = n_2\n",
        "        n_2 = nth\n",
        "        count += 1\n"
      ],
      "metadata": {
        "colab": {
          "base_uri": "https://localhost:8080/"
        },
        "id": "mpK0bMgRIqp3",
        "outputId": "2c83044c-d009-49c6-fc83-790d018e9742"
      },
      "execution_count": null,
      "outputs": [
        {
          "output_type": "stream",
          "name": "stdout",
          "text": [
            "How many terms the user wants to print?6\n",
            "THe fibonacci sequence of the numbers is:\n",
            "0\n",
            "1\n",
            "1\n",
            "2\n",
            "3\n",
            "5\n"
          ]
        }
      ]
    },
    {
      "cell_type": "code",
      "source": [
        "# Check Armstrong Number\n",
        "\n",
        "n = int(input(\"Enter number \"))\n",
        "s = n\n",
        "b = len(str(n))\n",
        "sum1 = 0\n",
        "while n != 0:\n",
        "    r = n % 10\n",
        "    sum1 = sum1+(r**b)\n",
        "    n = n//10\n",
        "if s == sum1:\n",
        "    print(\"The given number is Armstrong number\")\n",
        "else:\n",
        "    print(\"The given number is not an Armstrong number\")"
      ],
      "metadata": {
        "colab": {
          "base_uri": "https://localhost:8080/"
        },
        "id": "6VikRfcSJrhT",
        "outputId": "40b0d673-4535-44da-a859-8a80ce93c0c3"
      },
      "execution_count": null,
      "outputs": [
        {
          "output_type": "stream",
          "name": "stdout",
          "text": [
            "Enter number 35\n",
            "The given number is not an Armstrong number\n"
          ]
        }
      ]
    },
    {
      "cell_type": "code",
      "source": [
        "# Armstrong Number in an Interval\n",
        "\n",
        "lower = int(input(\"Enter lower range \"))\n",
        "upper = int(input(\"Enter upper range \"))\n",
        "\n",
        "for num in range(lower, upper + 1):\n",
        "    \n",
        "    sum = 0\n",
        "    temp = num\n",
        "    while temp > 0:\n",
        "        digit = temp % 10\n",
        "        sum += digit ** 3\n",
        "        temp //= 10\n",
        "    if num == sum:\n",
        "        print(num)"
      ],
      "metadata": {
        "colab": {
          "base_uri": "https://localhost:8080/"
        },
        "id": "xZabRBMoKKoj",
        "outputId": "4d1e386e-4bb4-453e-b1c6-7127cc2abbff"
      },
      "execution_count": null,
      "outputs": [
        {
          "output_type": "stream",
          "name": "stdout",
          "text": [
            "Enter lower range 1\n",
            "Enter upper range 800\n",
            "1\n",
            "153\n",
            "370\n",
            "371\n",
            "407\n"
          ]
        }
      ]
    },
    {
      "cell_type": "code",
      "source": [
        "# The Sum of Natural Numbers\n",
        "\n",
        "num = int(input(\"Enter a number \"))\n",
        "b = num\n",
        "\n",
        "if num < 0:\n",
        "    print(\"Enter a positive number\")\n",
        "else:\n",
        "    sum = 0\n",
        "    while(num >0):\n",
        "        sum += num\n",
        "        num -= 1\n",
        "    print(\"The sum of first\",b,\"natural numbers is\",sum)"
      ],
      "metadata": {
        "colab": {
          "base_uri": "https://localhost:8080/"
        },
        "id": "1klPCb4OK1cC",
        "outputId": "d9e13913-6b97-423f-b1c8-7dd578e38b2d"
      },
      "execution_count": null,
      "outputs": [
        {
          "output_type": "stream",
          "name": "stdout",
          "text": [
            "Enter a number 40\n",
            "The sum of first 40 natural numbers is 820\n"
          ]
        }
      ]
    },
    {
      "cell_type": "markdown",
      "source": [
        "Section E:"
      ],
      "metadata": {
        "id": "tLVfIZZeLNg_"
      }
    },
    {
      "cell_type": "code",
      "source": [
        "# find sum of array\n",
        "\n",
        "def _sum(arr):\n",
        "  sum = 0\n",
        "  for i in arr:\n",
        "      sum = sum + i\n",
        "\n",
        "  return(sum)\n",
        "arr = [34, 23, 4, 21,2]\n",
        "\n",
        "n = len(arr)\n",
        " \n",
        "ans = _sum(arr)\n",
        "print('Sum of the array is ', ans)"
      ],
      "metadata": {
        "colab": {
          "base_uri": "https://localhost:8080/"
        },
        "id": "XkKM2T5jQuc6",
        "outputId": "bcfd726b-f325-48fe-c21b-7b52610d3704"
      },
      "execution_count": 99,
      "outputs": [
        {
          "output_type": "stream",
          "name": "stdout",
          "text": [
            "Sum of the array is  84\n"
          ]
        }
      ]
    },
    {
      "cell_type": "code",
      "source": [
        "# find largest element in an array\n",
        "\n",
        "def largest(arr, n):\n",
        "    arr.sort()\n",
        "    return arr[n-1]\n",
        "arr = [324, 888, 32, 45]\n",
        "n = len(arr)\n",
        "a = largest(arr, n)\n",
        "print(\"Largest element in given array\", a)"
      ],
      "metadata": {
        "colab": {
          "base_uri": "https://localhost:8080/"
        },
        "id": "ny3oiLzLR1E_",
        "outputId": "3a15f484-2917-4b5e-a1e4-7c9a066f05aa"
      },
      "execution_count": null,
      "outputs": [
        {
          "output_type": "stream",
          "name": "stdout",
          "text": [
            "Largest element in given array 888\n"
          ]
        }
      ]
    },
    {
      "cell_type": "code",
      "source": [
        "# array rotation\n",
        "\n",
        "arr = [1,2,3,4,5]\n",
        "n = 3\n",
        "\n",
        "print(\"Original array= \")\n",
        "for i in range(0,len(arr)):\n",
        "    print(arr[i])\n",
        "\n",
        "for i in range(0,n):\n",
        "    first = arr[0]\n",
        "    for j in range(0,len(arr)-1):\n",
        "        arr[j] = arr[j+1]\n",
        "    arr[len(arr)-1] = first\n",
        "\n",
        "print(\"Array after left rotation= \")\n",
        "for i in range(0,len(arr)):\n",
        "    print(arr[i])"
      ],
      "metadata": {
        "id": "eTCKU57sTaa1",
        "colab": {
          "base_uri": "https://localhost:8080/"
        },
        "outputId": "d44b37f2-98b7-4ebd-d922-cad07b1d4f86"
      },
      "execution_count": 64,
      "outputs": [
        {
          "output_type": "stream",
          "name": "stdout",
          "text": [
            "Original array= \n",
            "1\n",
            "2\n",
            "3\n",
            "4\n",
            "5\n",
            "Array after left rotation= \n",
            "4\n",
            "5\n",
            "1\n",
            "2\n",
            "3\n"
          ]
        }
      ]
    },
    {
      "cell_type": "code",
      "source": [
        "# Split the array and add the first part to the end\n",
        "\n",
        "def splitArr(a, n, k):\n",
        "    b = a[ :k]\n",
        "    return (a[k::]+b[::])\n",
        "\n",
        "arr = [12, 10, 5, 6, 52, 36]\n",
        "n = len(arr)\n",
        "position = 2\n",
        "arr = splitArr(arr, n, position)\n",
        "for i in range(0, n):\n",
        "    print(arr[i], end = ' ')"
      ],
      "metadata": {
        "colab": {
          "base_uri": "https://localhost:8080/"
        },
        "id": "ScX0Be_ecBcV",
        "outputId": "95f0553b-23a8-4a64-b2e9-73bc78659b3a"
      },
      "execution_count": 65,
      "outputs": [
        {
          "output_type": "stream",
          "name": "stdout",
          "text": [
            "5 6 52 36 12 10 "
          ]
        }
      ]
    },
    {
      "cell_type": "code",
      "source": [
        "# check if given array is Monotonic\n",
        "\n",
        "def Monotonic(A):\n",
        "    return all(A[i] <= A[i + 1] for i in range(len(A)-1)) or all(A[i] >= A[i + 1] for i in range(len(A)-1))\n",
        "            \n",
        "A = [6, 5, 4, 4]\n",
        "print(Monotonic(A))"
      ],
      "metadata": {
        "colab": {
          "base_uri": "https://localhost:8080/"
        },
        "id": "F-5m4xFjcNqA",
        "outputId": "9709ffbc-f65c-4f07-c0e5-1552ef22e032"
      },
      "execution_count": 66,
      "outputs": [
        {
          "output_type": "stream",
          "name": "stdout",
          "text": [
            "True\n"
          ]
        }
      ]
    },
    {
      "cell_type": "markdown",
      "source": [
        "Section F:"
      ],
      "metadata": {
        "id": "c7I-GnZ_cj3s"
      }
    },
    {
      "cell_type": "code",
      "source": [
        "def _sum(arr):\n",
        "  sum = 0\n",
        "  for i in arr:\n",
        "      sum = sum + i\n",
        "\n",
        "  return(sum)\n",
        "lst = [2, 6, 7, 13, 5]\n",
        "d = _sum(lst)\n",
        "print(d)\n",
        "\n"
      ],
      "metadata": {
        "colab": {
          "base_uri": "https://localhost:8080/"
        },
        "id": "Tq99Wpk1gXUe",
        "outputId": "404e0032-140b-48a7-e910-3ba74cad60c1"
      },
      "execution_count": 77,
      "outputs": [
        {
          "output_type": "stream",
          "name": "stdout",
          "text": [
            "33\n"
          ]
        }
      ]
    },
    {
      "cell_type": "code",
      "source": [
        "# Multiply all numbers in the list\n",
        "\n",
        "lst1 = [2, 4, 5]\n",
        "lst2 = [3, 1, 6]\n",
        "from functools import reduce\n",
        "import operator\n",
        "\n",
        "print(reduce(operator.mul, lst1, 1))\n",
        "print(reduce(operator.mul, lst2, 1))"
      ],
      "metadata": {
        "colab": {
          "base_uri": "https://localhost:8080/"
        },
        "id": "IzGAc5UkhQGS",
        "outputId": "3f45c88d-cc47-4100-8109-2dca289c3948"
      },
      "execution_count": 82,
      "outputs": [
        {
          "output_type": "stream",
          "name": "stdout",
          "text": [
            "40\n",
            "18\n"
          ]
        }
      ]
    },
    {
      "cell_type": "code",
      "source": [
        "# find smallest number in a list\n",
        "\n",
        "lst = [34, 9, 45, 2, 67]\n",
        "print(\"Smallest number in a list is:\",min(lst))"
      ],
      "metadata": {
        "colab": {
          "base_uri": "https://localhost:8080/"
        },
        "id": "NL22gSkjkNZC",
        "outputId": "5d638f23-4450-44e1-b335-ef6bc07a12e2"
      },
      "execution_count": 83,
      "outputs": [
        {
          "output_type": "stream",
          "name": "stdout",
          "text": [
            "Smallest number in a list is: 2\n"
          ]
        }
      ]
    },
    {
      "cell_type": "code",
      "source": [
        "# find largest number in a list\n",
        "\n",
        "lst = [34, 9, 45, 2, 67]\n",
        "print(\"Largest number in a list is:\",max(lst))"
      ],
      "metadata": {
        "colab": {
          "base_uri": "https://localhost:8080/"
        },
        "id": "Ze0uwbbWkgsX",
        "outputId": "346a1708-3257-4149-b5d8-39bbcb53ef93"
      },
      "execution_count": 84,
      "outputs": [
        {
          "output_type": "stream",
          "name": "stdout",
          "text": [
            "Largest number in a list is: 67\n"
          ]
        }
      ]
    },
    {
      "cell_type": "code",
      "source": [
        "# find second largest number in a list\n",
        "\n",
        "list1 = [34, 9, 45, 2, 67]\n",
        "new_list = set(list1)\n",
        "new_list.remove(max(new_list))\n",
        "print(max(new_list))"
      ],
      "metadata": {
        "colab": {
          "base_uri": "https://localhost:8080/"
        },
        "id": "u8yqBx7poAm1",
        "outputId": "6dc69ec0-dc66-446f-b270-89721c44cd44"
      },
      "execution_count": 91,
      "outputs": [
        {
          "output_type": "stream",
          "name": "stdout",
          "text": [
            "45\n"
          ]
        }
      ]
    },
    {
      "cell_type": "code",
      "source": [
        "# find N largest elements from a list\n",
        "\n",
        "l = [1000,298,4325,200,-67,800,12]\n",
        "n = int(input(\"How many largest elements you want \"))\n",
        "l.sort()\n",
        "print(l[-n:])"
      ],
      "metadata": {
        "colab": {
          "base_uri": "https://localhost:8080/"
        },
        "id": "GT9dzPyOopdM",
        "outputId": "62d5f53d-101a-47c5-ed87-5bc6a6c97953"
      },
      "execution_count": 92,
      "outputs": [
        {
          "output_type": "stream",
          "name": "stdout",
          "text": [
            "How many largest elements you want 4\n",
            "[298, 800, 1000, 4325]\n"
          ]
        }
      ]
    },
    {
      "cell_type": "code",
      "source": [
        "# even numbers in a list\n",
        "\n",
        "lst = [34, 9, 45, 2, 67, 99, 12]\n",
        "for i in lst:\n",
        "    if i % 2 ==0:\n",
        "        print(i, end=' ')"
      ],
      "metadata": {
        "colab": {
          "base_uri": "https://localhost:8080/"
        },
        "id": "uSYp9YZUoy8m",
        "outputId": "1458f157-40d1-4cef-8f7a-d30cdf2e93bc"
      },
      "execution_count": 93,
      "outputs": [
        {
          "output_type": "stream",
          "name": "stdout",
          "text": [
            "34 2 12 "
          ]
        }
      ]
    },
    {
      "cell_type": "code",
      "source": [
        "# odd numbers in a List\n",
        "\n",
        "lst = [34, 9, 45, 2, 67, 99, 12]\n",
        "for i in lst:\n",
        "    if i % 2 != 0:\n",
        "        print(i, end=' ')\n"
      ],
      "metadata": {
        "colab": {
          "base_uri": "https://localhost:8080/"
        },
        "id": "Mrvwvv_fo9As",
        "outputId": "875090e9-2245-4005-91c3-444b83b5a8eb"
      },
      "execution_count": 94,
      "outputs": [
        {
          "output_type": "stream",
          "name": "stdout",
          "text": [
            "9 45 67 99 "
          ]
        }
      ]
    },
    {
      "cell_type": "code",
      "source": [
        "# Remove empty List from List\n",
        "\n",
        "lst = [8, 5, [], 21, [], [], 24, 1]\n",
        "print(\"The original list is : \" + str(lst))\n",
        "while [] in lst:\n",
        "    lst.remove([])\n",
        "print(\"List after empty list removal : \" + str(lst))"
      ],
      "metadata": {
        "colab": {
          "base_uri": "https://localhost:8080/"
        },
        "id": "MlL2Nz7LpIkG",
        "outputId": "9a1b2250-9cbe-4479-c8a8-9e15de3f794f"
      },
      "execution_count": 95,
      "outputs": [
        {
          "output_type": "stream",
          "name": "stdout",
          "text": [
            "The original list is : [8, 5, [], 21, [], [], 24, 1]\n",
            "List after empty list removal : [8, 5, 21, 24, 1]\n"
          ]
        }
      ]
    },
    {
      "cell_type": "code",
      "source": [
        "# Cloning or Copying a list\n",
        "\n",
        "def cloning(lst1):\n",
        "    lst_copy = lst1\n",
        "    return lst_copy\n",
        "\n",
        "lst1 = [34, 9, 45, 2, 67, 99, 12]\n",
        "lst2 = cloning(lst1)\n",
        "print(\"Original list:\", lst1)\n",
        "print(\"After cloning:\", lst2)"
      ],
      "metadata": {
        "colab": {
          "base_uri": "https://localhost:8080/"
        },
        "id": "CZcC6QtPqQJQ",
        "outputId": "4e66de2f-d507-4565-b94d-19842621274e"
      },
      "execution_count": 96,
      "outputs": [
        {
          "output_type": "stream",
          "name": "stdout",
          "text": [
            "Original list: [34, 9, 45, 2, 67, 99, 12]\n",
            "After cloning: [34, 9, 45, 2, 67, 99, 12]\n"
          ]
        }
      ]
    },
    {
      "cell_type": "code",
      "source": [
        "# Count occurrences of an element in a list\n",
        "\n",
        "def count(lst, x):\n",
        "    return lst.count(x)\n",
        "\n",
        "lst = [6, 7, 52, 4, 8, 4, 6, 4]\n",
        "x = 4\n",
        "print(\"{} has occurred {} times\".format(x, count(lst, x)))"
      ],
      "metadata": {
        "colab": {
          "base_uri": "https://localhost:8080/"
        },
        "id": "TxNNHwuXqd3h",
        "outputId": "158d70ff-430f-4e8c-e7c5-7d69eef2a3b1"
      },
      "execution_count": 97,
      "outputs": [
        {
          "output_type": "stream",
          "name": "stdout",
          "text": [
            "4 has occurred 3 times\n"
          ]
        }
      ]
    }
  ]
}