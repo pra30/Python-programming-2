{
  "nbformat": 4,
  "nbformat_minor": 0,
  "metadata": {
    "colab": {
      "name": "Assignment2.ipynb",
      "provenance": []
    },
    "kernelspec": {
      "name": "python3",
      "display_name": "Python 3"
    },
    "language_info": {
      "name": "python"
    }
  },
  "cells": [
    {
      "cell_type": "code",
      "execution_count": 12,
      "metadata": {
        "colab": {
          "base_uri": "https://localhost:8080/"
        },
        "id": "dpzFaWwRgzuW",
        "outputId": "24d9073c-62fa-47ba-d453-4916b4931267"
      },
      "outputs": [
        {
          "output_type": "stream",
          "name": "stdout",
          "text": [
            "3\n",
            "0\n"
          ]
        }
      ],
      "source": [
        "# Create a function that takes three integer arguments (a, b, c) and returns the amount of integers which are of equal value\n",
        "def sum_three(x, y, z):\n",
        "  if x == y or y == z or z == x:\n",
        "    sum = 3\n",
        "  else:\n",
        "    sum = 0\n",
        "  return sum\n",
        "print(sum_three(5, 5, 5))\n",
        "print(sum_three(3, 4, 1))\n",
        "\n"
      ]
    },
    {
      "cell_type": "code",
      "source": [
        "# Write a function that converts a dictionary into a list of keys-values tuples\n",
        "\n",
        "def DtoLoT(dict):\n",
        "    dict = {'Pratik':33, 'Omkar':63, 'Shreyash':25, 'Avishkar':45}\n",
        "    list = [(k, v) for k, v in dict.items()]\n",
        "\n",
        "    list.sort(key = lambda x: x[0])\n",
        "    return list\n",
        "\n",
        "print(DtoLoT(dict))"
      ],
      "metadata": {
        "id": "as9lTDHvk1IH",
        "colab": {
          "base_uri": "https://localhost:8080/"
        },
        "outputId": "6d1aa169-9b7f-4b92-950c-b12cbafd2501"
      },
      "execution_count": 13,
      "outputs": [
        {
          "output_type": "stream",
          "name": "stdout",
          "text": [
            "[('Avishkar', 45), ('Omkar', 63), ('Pratik', 33), ('Shreyash', 25)]\n"
          ]
        }
      ]
    },
    {
      "cell_type": "code",
      "source": [
        "# Write a function that creates a dictionary with each (key, value) pair being the (lower case,upper case) versions of a letter, respectively\n",
        "\n",
        "\n",
        "def function2(list):\n",
        " list = [\"m\", \"n\", \"p\", \"r\", \"c\"]\n",
        " b = dict((i, i.upper()) for i in list)\n",
        " return b\n",
        "    \n",
        "print(function2(list))"
      ],
      "metadata": {
        "colab": {
          "base_uri": "https://localhost:8080/"
        },
        "id": "wq0Iz2_MYYKQ",
        "outputId": "76f56232-3544-4ce1-b044-ce89e96f66e6"
      },
      "execution_count": 14,
      "outputs": [
        {
          "output_type": "stream",
          "name": "stdout",
          "text": [
            "{'m': 'M', 'n': 'N', 'p': 'P', 'r': 'R', 'c': 'C'}\n"
          ]
        }
      ]
    },
    {
      "cell_type": "code",
      "source": [
        "# Write a function, that replaces all vowels in a string with a specified vowel\n",
        "\n",
        "def replaceVowels(str, K):\n",
        "    vowels = 'aeiou'\n",
        "    for i in vowels:\n",
        "        str = str.replace(i, K)\n",
        "    return str\n",
        "\n",
        "input_str = \"my name is pratik kadam\"\n",
        "K = \"e\"\n",
        "\n",
        "print(\"Input string =\", input_str)\n",
        "print(\"Specified vowel =\", K)\n",
        "print(\"After replacing =\", replaceVowels(input_str, K))"
      ],
      "metadata": {
        "colab": {
          "base_uri": "https://localhost:8080/"
        },
        "id": "17wyAUa8YmD-",
        "outputId": "5550e7da-3dbb-4c6b-8cb2-97c307deaa36"
      },
      "execution_count": 16,
      "outputs": [
        {
          "output_type": "stream",
          "name": "stdout",
          "text": [
            "Input string = my name is pratik kadam\n",
            "Specified vowel = e\n",
            "After replacing = my neme es pretek kedem\n"
          ]
        }
      ]
    },
    {
      "cell_type": "code",
      "source": [
        "# Create a function that takes a string as input and capitalizes a letter if its ASCII code is even and returns its lower case version if its ASCII code is odd\n",
        "\n",
        "#def function3(str):\n",
        "ab = \"my name is pratik kadam\"\n",
        "d = list(ab)\n",
        "print(d)\n",
        "go = []\n",
        "for i in d:\n",
        "    go.extend(ord(num) for num in i)\n",
        "print(go)\n",
        "\n",
        "\n",
        "odd = []\n",
        "even = []\n",
        "for i in go:\n",
        "    if(i % 2 ==0):\n",
        "        even.append(i)\n",
        "    else:\n",
        "        odd.append(i)"
      ],
      "metadata": {
        "colab": {
          "base_uri": "https://localhost:8080/"
        },
        "id": "awqggE-MZDqJ",
        "outputId": "3e109b5d-9367-4e52-bd3d-6aaad970a8ca"
      },
      "execution_count": 19,
      "outputs": [
        {
          "output_type": "stream",
          "name": "stdout",
          "text": [
            "['m', 'y', ' ', 'n', 'a', 'm', 'e', ' ', 'i', 's', ' ', 'p', 'r', 'a', 't', 'i', 'k', ' ', 'k', 'a', 'd', 'a', 'm']\n",
            "[109, 121, 32, 110, 97, 109, 101, 32, 105, 115, 32, 112, 114, 97, 116, 105, 107, 32, 107, 97, 100, 97, 109]\n"
          ]
        }
      ]
    }
  ]
}