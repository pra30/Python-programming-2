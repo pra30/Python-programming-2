{
  "nbformat": 4,
  "nbformat_minor": 0,
  "metadata": {
    "colab": {
      "provenance": [],
      "authorship_tag": "ABX9TyO1Ro3XbOxtI6+rX+zig9Nz",
      "include_colab_link": true
    },
    "kernelspec": {
      "name": "python3",
      "display_name": "Python 3"
    },
    "language_info": {
      "name": "python"
    }
  },
  "cells": [
    {
      "cell_type": "markdown",
      "metadata": {
        "id": "view-in-github",
        "colab_type": "text"
      },
      "source": [
        "<a href=\"https://colab.research.google.com/github/pra30/Python-programming-2/blob/main/Assignment2.ipynb\" target=\"_parent\"><img src=\"https://colab.research.google.com/assets/colab-badge.svg\" alt=\"Open In Colab\"/></a>"
      ]
    },
    {
      "cell_type": "markdown",
      "source": [
        "#                        **PRACTICAL NO :  2**\n",
        "# NAME : PRATIK PANDURANG KADAM                                    \n",
        "# DIV : A\n",
        "# ROLL NO : 33                                                  \n",
        "# BATCH : A2"
      ],
      "metadata": {
        "id": "_-0hv_Bwu3Xe"
      }
    },
    {
      "cell_type": "code",
      "execution_count": null,
      "metadata": {
        "colab": {
          "base_uri": "https://localhost:8080/"
        },
        "id": "dpzFaWwRgzuW",
        "outputId": "24d9073c-62fa-47ba-d453-4916b4931267"
      },
      "outputs": [
        {
          "output_type": "stream",
          "name": "stdout",
          "text": [
            "3\n",
            "0\n"
          ]
        }
      ],
      "source": [
        "# Create a function that takes three integer arguments (a, b, c) and returns the amount of integers which are of equal value\n",
        "def sum_three(x, y, z):\n",
        "  if x == y or y == z or z == x:\n",
        "    sum = 3\n",
        "  else:\n",
        "    sum = 0\n",
        "  return sum\n",
        "print(sum_three(5, 5, 5))\n",
        "print(sum_three(3, 4, 1))\n",
        "\n"
      ]
    },
    {
      "cell_type": "code",
      "source": [
        "# Write a function that converts a dictionary into a list of keys-values tuples\n",
        "\n",
        "def DtoLoT(dict):\n",
        "    dict = {'Pratik':33, 'Omkar':63, 'Shreyash':25, 'Avishkar':45}\n",
        "    list = [(k, v) for k, v in dict.items()]\n",
        "\n",
        "    list.sort(key = lambda x: x[0])\n",
        "    return list\n",
        "\n",
        "print(DtoLoT(dict))"
      ],
      "metadata": {
        "id": "as9lTDHvk1IH",
        "colab": {
          "base_uri": "https://localhost:8080/"
        },
        "outputId": "6d1aa169-9b7f-4b92-950c-b12cbafd2501"
      },
      "execution_count": null,
      "outputs": [
        {
          "output_type": "stream",
          "name": "stdout",
          "text": [
            "[('Avishkar', 45), ('Omkar', 63), ('Pratik', 33), ('Shreyash', 25)]\n"
          ]
        }
      ]
    },
    {
      "cell_type": "code",
      "source": [
        "# Write a function that creates a dictionary with each (key, value) pair being the (lower case,upper case) versions of a letter, respectively\n",
        "\n",
        "\n",
        "def function2(list):\n",
        " list = [\"m\", \"n\", \"p\", \"r\", \"c\"]\n",
        " b = dict((i, i.upper()) for i in list)\n",
        " return b\n",
        "    \n",
        "print(function2(list))"
      ],
      "metadata": {
        "colab": {
          "base_uri": "https://localhost:8080/"
        },
        "id": "wq0Iz2_MYYKQ",
        "outputId": "76f56232-3544-4ce1-b044-ce89e96f66e6"
      },
      "execution_count": null,
      "outputs": [
        {
          "output_type": "stream",
          "name": "stdout",
          "text": [
            "{'m': 'M', 'n': 'N', 'p': 'P', 'r': 'R', 'c': 'C'}\n"
          ]
        }
      ]
    },
    {
      "cell_type": "code",
      "source": [
        "# Write a function, that replaces all vowels in a string with a specified vowel\n",
        "\n",
        "def replaceVowels(str, K):\n",
        "    vowels = 'aeiou'\n",
        "    for i in vowels:\n",
        "        str = str.replace(i, K)\n",
        "    return str\n",
        "\n",
        "input_str = \"my name is pratik pandurang kadam\"\n",
        "K = \"e\"\n",
        "\n",
        "print(\"Input string =\", input_str)\n",
        "print(\"Specified vowel =\", K)\n",
        "print(\"After replacing =\", replaceVowels(input_str, K))"
      ],
      "metadata": {
        "colab": {
          "base_uri": "https://localhost:8080/"
        },
        "id": "17wyAUa8YmD-",
        "outputId": "4b4c4a04-9969-457f-d54f-346cd1052cd7"
      },
      "execution_count": null,
      "outputs": [
        {
          "output_type": "stream",
          "name": "stdout",
          "text": [
            "Input string = my name is pratik pandurang kadam\n",
            "Specified vowel = e\n",
            "After replacing = my neme es pretek pendereng kedem\n"
          ]
        }
      ]
    },
    {
      "cell_type": "code",
      "source": [
        "# Create a function that takes a string as input and capitalizes a letter if its ASCII code is even and returns its lower case version if its ASCII code is odd\n",
        "\n",
        "def ascii_capitalize(s):\n",
        "    s1 = []\n",
        "    for i in range(len(s)):\n",
        "        if ord(s[i]) % 2 == 0:\n",
        "            s1.append(s[i].upper())\n",
        "        else:\n",
        "            s1.append(s[i].lower())\n",
        "\n",
        "    return \"\".join((s1))\n",
        "ascii_capitalize('to be or not to be!')\n",
        "        "
      ],
      "metadata": {
        "colab": {
          "base_uri": "https://localhost:8080/",
          "height": 35
        },
        "id": "awqggE-MZDqJ",
        "outputId": "98afa0b6-2619-4080-b6ee-e68499497b36"
      },
      "execution_count": null,
      "outputs": [
        {
          "output_type": "execute_result",
          "data": {
            "text/plain": [
              "'To Be oR NoT To Be!'"
            ],
            "application/vnd.google.colaboratory.intrinsic+json": {
              "type": "string"
            }
          },
          "metadata": {},
          "execution_count": 2
        }
      ]
    },
    {
      "cell_type": "code",
      "source": [],
      "metadata": {
        "id": "2lgbSUA1hh9u"
      },
      "execution_count": null,
      "outputs": []
    }
  ]
}