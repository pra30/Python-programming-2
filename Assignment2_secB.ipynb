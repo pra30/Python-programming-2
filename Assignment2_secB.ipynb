{
  "nbformat": 4,
  "nbformat_minor": 0,
  "metadata": {
    "colab": {
      "provenance": []
    },
    "kernelspec": {
      "name": "python3",
      "display_name": "Python 3"
    },
    "language_info": {
      "name": "python"
    }
  },
  "cells": [
    {
      "cell_type": "markdown",
      "source": [
        "Section B"
      ],
      "metadata": {
        "id": "3LymgThf1p5t"
      }
    },
    {
      "cell_type": "code",
      "source": [
        "# Display Calendar\n",
        "\n",
        "def display_calendar(yy):\n",
        "    import calendar\n",
        "    return(calendar.calendar(yy))\n",
        "\n",
        "print(display_calendar(2025))"
      ],
      "metadata": {
        "colab": {
          "base_uri": "https://localhost:8080/"
        },
        "id": "kzTJ6dIt1tjk",
        "outputId": "5026d4a8-1abe-48f5-cf89-de7f28867ff7"
      },
      "execution_count": null,
      "outputs": [
        {
          "output_type": "stream",
          "name": "stdout",
          "text": [
            "                                  2025\n",
            "\n",
            "      January                   February                   March\n",
            "Mo Tu We Th Fr Sa Su      Mo Tu We Th Fr Sa Su      Mo Tu We Th Fr Sa Su\n",
            "       1  2  3  4  5                      1  2                      1  2\n",
            " 6  7  8  9 10 11 12       3  4  5  6  7  8  9       3  4  5  6  7  8  9\n",
            "13 14 15 16 17 18 19      10 11 12 13 14 15 16      10 11 12 13 14 15 16\n",
            "20 21 22 23 24 25 26      17 18 19 20 21 22 23      17 18 19 20 21 22 23\n",
            "27 28 29 30 31            24 25 26 27 28            24 25 26 27 28 29 30\n",
            "                                                    31\n",
            "\n",
            "       April                      May                       June\n",
            "Mo Tu We Th Fr Sa Su      Mo Tu We Th Fr Sa Su      Mo Tu We Th Fr Sa Su\n",
            "    1  2  3  4  5  6                1  2  3  4                         1\n",
            " 7  8  9 10 11 12 13       5  6  7  8  9 10 11       2  3  4  5  6  7  8\n",
            "14 15 16 17 18 19 20      12 13 14 15 16 17 18       9 10 11 12 13 14 15\n",
            "21 22 23 24 25 26 27      19 20 21 22 23 24 25      16 17 18 19 20 21 22\n",
            "28 29 30                  26 27 28 29 30 31         23 24 25 26 27 28 29\n",
            "                                                    30\n",
            "\n",
            "        July                     August                  September\n",
            "Mo Tu We Th Fr Sa Su      Mo Tu We Th Fr Sa Su      Mo Tu We Th Fr Sa Su\n",
            "    1  2  3  4  5  6                   1  2  3       1  2  3  4  5  6  7\n",
            " 7  8  9 10 11 12 13       4  5  6  7  8  9 10       8  9 10 11 12 13 14\n",
            "14 15 16 17 18 19 20      11 12 13 14 15 16 17      15 16 17 18 19 20 21\n",
            "21 22 23 24 25 26 27      18 19 20 21 22 23 24      22 23 24 25 26 27 28\n",
            "28 29 30 31               25 26 27 28 29 30 31      29 30\n",
            "\n",
            "      October                   November                  December\n",
            "Mo Tu We Th Fr Sa Su      Mo Tu We Th Fr Sa Su      Mo Tu We Th Fr Sa Su\n",
            "       1  2  3  4  5                      1  2       1  2  3  4  5  6  7\n",
            " 6  7  8  9 10 11 12       3  4  5  6  7  8  9       8  9 10 11 12 13 14\n",
            "13 14 15 16 17 18 19      10 11 12 13 14 15 16      15 16 17 18 19 20 21\n",
            "20 21 22 23 24 25 26      17 18 19 20 21 22 23      22 23 24 25 26 27 28\n",
            "27 28 29 30 31            24 25 26 27 28 29 30      29 30 31\n",
            "\n"
          ]
        }
      ]
    },
    {
      "cell_type": "code",
      "source": [
        "# solve quadratic equation\n",
        "\n",
        "def quadratic_eqn(a,b,c):\n",
        "    import cmath\n",
        "    \n",
        "    d = (b**2) - (4*a*c)\n",
        "\n",
        "    sol1 = (-b-cmath.sqrt(d))/(2*a)\n",
        "    sol2 = (-b+cmath.sqrt(d))/(2*a)\n",
        "    return('The solution are {0} and {1}'.format(sol1,sol2))\n",
        "\n",
        "print(quadratic_eqn(3,2,-8))"
      ],
      "metadata": {
        "colab": {
          "base_uri": "https://localhost:8080/"
        },
        "id": "81gylAOW2RPI",
        "outputId": "a9cdbd95-34cd-44f2-e538-f5c869118ce3"
      },
      "execution_count": null,
      "outputs": [
        {
          "output_type": "stream",
          "name": "stdout",
          "text": [
            "The solution are (-2+0j) and (1.3333333333333333+0j)\n"
          ]
        }
      ]
    },
    {
      "cell_type": "code",
      "source": [
        "# Check Leap Year\n",
        "\n",
        "def CheckYear(year):\n",
        "    import calendar\n",
        "    return(calendar.isleap(year))\n",
        "\n",
        "print(CheckYear(2024))"
      ],
      "metadata": {
        "colab": {
          "base_uri": "https://localhost:8080/"
        },
        "id": "g3dLYXQM2x3z",
        "outputId": "4e3ec243-b533-4c95-ffb7-6d30a669980c"
      },
      "execution_count": null,
      "outputs": [
        {
          "output_type": "stream",
          "name": "stdout",
          "text": [
            "True\n"
          ]
        }
      ]
    },
    {
      "cell_type": "code",
      "source": [
        "# Check Prime Number\n",
        "\n",
        "def check_primeno(num):\n",
        "\n",
        "    if num > 1:\n",
        "        for i in range(2, int(num/2)+1):\n",
        "            if (num % i) == 0:\n",
        "                return(num, \"is not a prime number\")\n",
        "                break\n",
        "        else:\n",
        "                return(num, \"is a prime number\")\n",
        "    else:\n",
        "        return(num, \"is not a prime number\")\n",
        "\n",
        "print(check_primeno(233))"
      ],
      "metadata": {
        "colab": {
          "base_uri": "https://localhost:8080/"
        },
        "id": "nopBwdi42-bi",
        "outputId": "36186f4b-a8e9-4dfd-db64-0c7bcd70614c"
      },
      "execution_count": null,
      "outputs": [
        {
          "output_type": "stream",
          "name": "stdout",
          "text": [
            "(233, 'is a prime number')\n"
          ]
        }
      ]
    },
    {
      "cell_type": "code",
      "source": [
        "# Armstrong Number in an Interval\n",
        "\n",
        "def Armstrong_no(lower,upper):\n",
        "\n",
        "    for num in range(lower, upper + 1):\n",
        "    \n",
        "        sum = 0\n",
        "        temp = num\n",
        "        while temp > 0:\n",
        "            digit = temp % 10\n",
        "            sum += digit ** 3\n",
        "            temp //= 10\n",
        "        if num == sum:\n",
        "            print(num)\n",
        "\n",
        "print(Armstrong_no(100,5000))"
      ],
      "metadata": {
        "colab": {
          "base_uri": "https://localhost:8080/"
        },
        "id": "hp9nX9S53OLI",
        "outputId": "527911e6-45c0-4a39-f741-4257e632395d"
      },
      "execution_count": null,
      "outputs": [
        {
          "output_type": "stream",
          "name": "stdout",
          "text": [
            "153\n",
            "370\n",
            "371\n",
            "407\n",
            "None\n"
          ]
        }
      ]
    }
  ]
}