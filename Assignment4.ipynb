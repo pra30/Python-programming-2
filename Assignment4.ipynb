{
  "nbformat": 4,
  "nbformat_minor": 0,
  "metadata": {
    "colab": {
      "provenance": [],
      "collapsed_sections": []
    },
    "kernelspec": {
      "name": "python3",
      "display_name": "Python 3"
    },
    "language_info": {
      "name": "python"
    }
  },
  "cells": [
    {
      "cell_type": "code",
      "execution_count": 13,
      "metadata": {
        "colab": {
          "base_uri": "https://localhost:8080/"
        },
        "id": "i9OCBymhmyrL",
        "outputId": "04d09d7a-9952-4181-a18c-95e0d09855e6"
      },
      "outputs": [
        {
          "output_type": "stream",
          "name": "stdout",
          "text": [
            "174 19\n"
          ]
        }
      ],
      "source": [
        "#1. Write a Python program to create a Vehicle class with max_speed and mileage instance attributes.\n",
        "class Vehicle:\n",
        "    def __init__(self, max_speed, mileage):\n",
        "        self.max_speed = max_speed\n",
        "        self.mileage = mileage\n",
        "\n",
        "abc = Vehicle(174, 19)\n",
        "print(abc.max_speed, abc.mileage)"
      ]
    },
    {
      "cell_type": "code",
      "source": [
        "#2.Create a Vehicle class without any variables and methods.\n",
        "\n",
        "class Vehicle:\n",
        "    pass"
      ],
      "metadata": {
        "id": "p2vlsIdmnEOM"
      },
      "execution_count": 3,
      "outputs": []
    },
    {
      "cell_type": "code",
      "source": [
        "#3.Create a child class Bus that will inherit all of the variables and methods of the Vehicle class\n",
        "\n",
        "class Vehicle:\n",
        "\n",
        "    def __init__(self, Name,Max_Speed,Mileage):                \n",
        "        self.name = Name\n",
        "        self.max_speed = Max_Speed\n",
        "        self.mileage =Mileage"
      ],
      "metadata": {
        "id": "2iDH8jVgnLNP"
      },
      "execution_count": 9,
      "outputs": []
    },
    {
      "cell_type": "code",
      "source": [
        "# Create a Bus class that inherits from the Vehicle class. Give the capacity argument of Bus.seating_capacity() a default value of 50.\n",
        "\n",
        "class Vehicle:\n",
        "    def __init__(self, name, max_speed, mileage):\n",
        "        self.name = name\n",
        "        self.max_speed = max_speed\n",
        "        self.mileage = mileage\n",
        "\n",
        "    def seating_capacity(self, capacity):\n",
        "        return f\"The seating capacity of a {self.name} is {capacity} passengers\""
      ],
      "metadata": {
        "id": "AC8bANYYnkXR"
      },
      "execution_count": 10,
      "outputs": []
    },
    {
      "cell_type": "code",
      "source": [
        "#Create a Bus child class that inherits from the Vehicle class. The default fare charge of any vehicle is seating capacity * 100. If Vehicle is Bus instance, we need to add an extra 10% on full fare as a maintenance charge. So total fare for bus instance will become the final amount = total fare + 10% of the total fare.\n",
        "\n",
        "class Vehicle:\n",
        "    def __init__(self, name, mileage, capacity):\n",
        "        self.name = name\n",
        "        self.mileage = mileage\n",
        "        self.capacity = capacity\n",
        "\n",
        "    def fare(self):\n",
        "        return self.capacity * 100\n",
        "\n",
        "class Bus(Vehicle):\n",
        "    pass\n",
        "\n",
        "School_bus = Bus(\"Scholobus\", 14, 48)\n",
        "print(\"Total Bus fare is:\", School_bus.fare())"
      ],
      "metadata": {
        "colab": {
          "base_uri": "https://localhost:8080/"
        },
        "id": "IiHJz-smnwap",
        "outputId": "0016b7b6-e718-476c-eba0-45a699656e77"
      },
      "execution_count": 12,
      "outputs": [
        {
          "output_type": "stream",
          "name": "stdout",
          "text": [
            "Total Bus fare is: 4800\n"
          ]
        }
      ]
    }
  ]
}